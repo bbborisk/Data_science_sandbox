{
 "cells": [
  {
   "cell_type": "code",
   "execution_count": 12,
   "id": "62b99a51-1cbf-4245-bf65-ceeac4422531",
   "metadata": {
    "jupyter": {
     "source_hidden": true
    },
    "tags": []
   },
   "outputs": [],
   "source": [
    "import pandas as pd\n",
    "import numpy as np\n",
    "import matplotlib.pyplot as plt\n",
    "%matplotlib inline"
   ]
  },
  {
   "cell_type": "code",
   "execution_count": 13,
   "id": "1fdc327f-e78d-4bf2-8638-9b610c6ae8f8",
   "metadata": {},
   "outputs": [
    {
     "data": {
      "text/html": [
       "<div>\n",
       "<style scoped>\n",
       "    .dataframe tbody tr th:only-of-type {\n",
       "        vertical-align: middle;\n",
       "    }\n",
       "\n",
       "    .dataframe tbody tr th {\n",
       "        vertical-align: top;\n",
       "    }\n",
       "\n",
       "    .dataframe thead th {\n",
       "        text-align: right;\n",
       "    }\n",
       "</style>\n",
       "<table border=\"1\" class=\"dataframe\">\n",
       "  <thead>\n",
       "    <tr style=\"text-align: right;\">\n",
       "      <th></th>\n",
       "      <th>x-box</th>\n",
       "      <th>y-box</th>\n",
       "      <th>width</th>\n",
       "      <th>high</th>\n",
       "      <th>onpix</th>\n",
       "      <th>x-bar</th>\n",
       "      <th>y-bar</th>\n",
       "      <th>x2bar</th>\n",
       "      <th>y2bar</th>\n",
       "      <th>xybar</th>\n",
       "      <th>x2ybr</th>\n",
       "      <th>xy2br</th>\n",
       "      <th>x-ege</th>\n",
       "      <th>xegvy</th>\n",
       "      <th>y-ege</th>\n",
       "      <th>yegvx</th>\n",
       "      <th>class</th>\n",
       "    </tr>\n",
       "  </thead>\n",
       "  <tbody>\n",
       "    <tr>\n",
       "      <th>0</th>\n",
       "      <td>2</td>\n",
       "      <td>4</td>\n",
       "      <td>4</td>\n",
       "      <td>3</td>\n",
       "      <td>2</td>\n",
       "      <td>7</td>\n",
       "      <td>8</td>\n",
       "      <td>2</td>\n",
       "      <td>9</td>\n",
       "      <td>11</td>\n",
       "      <td>7</td>\n",
       "      <td>7</td>\n",
       "      <td>1</td>\n",
       "      <td>8</td>\n",
       "      <td>5</td>\n",
       "      <td>6</td>\n",
       "      <td>Z</td>\n",
       "    </tr>\n",
       "    <tr>\n",
       "      <th>1</th>\n",
       "      <td>4</td>\n",
       "      <td>7</td>\n",
       "      <td>5</td>\n",
       "      <td>5</td>\n",
       "      <td>5</td>\n",
       "      <td>5</td>\n",
       "      <td>9</td>\n",
       "      <td>6</td>\n",
       "      <td>4</td>\n",
       "      <td>8</td>\n",
       "      <td>7</td>\n",
       "      <td>9</td>\n",
       "      <td>2</td>\n",
       "      <td>9</td>\n",
       "      <td>7</td>\n",
       "      <td>10</td>\n",
       "      <td>P</td>\n",
       "    </tr>\n",
       "    <tr>\n",
       "      <th>2</th>\n",
       "      <td>7</td>\n",
       "      <td>10</td>\n",
       "      <td>8</td>\n",
       "      <td>7</td>\n",
       "      <td>4</td>\n",
       "      <td>8</td>\n",
       "      <td>8</td>\n",
       "      <td>5</td>\n",
       "      <td>10</td>\n",
       "      <td>11</td>\n",
       "      <td>2</td>\n",
       "      <td>8</td>\n",
       "      <td>2</td>\n",
       "      <td>5</td>\n",
       "      <td>5</td>\n",
       "      <td>10</td>\n",
       "      <td>S</td>\n",
       "    </tr>\n",
       "    <tr>\n",
       "      <th>3</th>\n",
       "      <td>4</td>\n",
       "      <td>9</td>\n",
       "      <td>5</td>\n",
       "      <td>7</td>\n",
       "      <td>4</td>\n",
       "      <td>7</td>\n",
       "      <td>7</td>\n",
       "      <td>13</td>\n",
       "      <td>1</td>\n",
       "      <td>7</td>\n",
       "      <td>6</td>\n",
       "      <td>8</td>\n",
       "      <td>3</td>\n",
       "      <td>8</td>\n",
       "      <td>0</td>\n",
       "      <td>8</td>\n",
       "      <td>H</td>\n",
       "    </tr>\n",
       "  </tbody>\n",
       "</table>\n",
       "</div>"
      ],
      "text/plain": [
       "   x-box  y-box  width  high  onpix  x-bar  y-bar  x2bar  y2bar  xybar  x2ybr  \\\n",
       "0      2      4      4     3      2      7      8      2      9     11      7   \n",
       "1      4      7      5     5      5      5      9      6      4      8      7   \n",
       "2      7     10      8     7      4      8      8      5     10     11      2   \n",
       "3      4      9      5     7      4      7      7     13      1      7      6   \n",
       "\n",
       "   xy2br  x-ege  xegvy  y-ege  yegvx class  \n",
       "0      7      1      8      5      6     Z  \n",
       "1      9      2      9      7     10     P  \n",
       "2      8      2      5      5     10     S  \n",
       "3      8      3      8      0      8     H  "
      ]
     },
     "execution_count": 13,
     "metadata": {},
     "output_type": "execute_result"
    }
   ],
   "source": [
    "data = pd.read_csv('letter_csv.csv')\n",
    "data.head(4)"
   ]
  },
  {
   "cell_type": "code",
   "execution_count": null,
   "id": "87b064fa-b125-4d5d-98a9-9a71937ddc3b",
   "metadata": {},
   "outputs": [],
   "source": []
  },
  {
   "cell_type": "code",
   "execution_count": 14,
   "id": "bbc570fb-582e-4bf7-b2cf-91600d9e0647",
   "metadata": {},
   "outputs": [],
   "source": [
    "data.rename(columns={'class':'letter'}, inplace=True)"
   ]
  },
  {
   "cell_type": "code",
   "execution_count": 27,
   "id": "4350e0fb-d53c-47ee-97c3-7df8bb03fa74",
   "metadata": {},
   "outputs": [
    {
     "data": {
      "text/html": [
       "<div>\n",
       "<style scoped>\n",
       "    .dataframe tbody tr th:only-of-type {\n",
       "        vertical-align: middle;\n",
       "    }\n",
       "\n",
       "    .dataframe tbody tr th {\n",
       "        vertical-align: top;\n",
       "    }\n",
       "\n",
       "    .dataframe thead th {\n",
       "        text-align: right;\n",
       "    }\n",
       "</style>\n",
       "<table border=\"1\" class=\"dataframe\">\n",
       "  <thead>\n",
       "    <tr style=\"text-align: right;\">\n",
       "      <th></th>\n",
       "      <th>x-box</th>\n",
       "      <th>y-box</th>\n",
       "      <th>width</th>\n",
       "      <th>high</th>\n",
       "      <th>onpix</th>\n",
       "      <th>x-bar</th>\n",
       "      <th>y-bar</th>\n",
       "      <th>x2bar</th>\n",
       "      <th>y2bar</th>\n",
       "      <th>xybar</th>\n",
       "      <th>x2ybr</th>\n",
       "      <th>xy2br</th>\n",
       "      <th>x-ege</th>\n",
       "      <th>xegvy</th>\n",
       "      <th>y-ege</th>\n",
       "      <th>yegvx</th>\n",
       "      <th>letter</th>\n",
       "    </tr>\n",
       "  </thead>\n",
       "  <tbody>\n",
       "    <tr>\n",
       "      <th>0</th>\n",
       "      <td>2</td>\n",
       "      <td>4</td>\n",
       "      <td>4</td>\n",
       "      <td>3</td>\n",
       "      <td>2</td>\n",
       "      <td>7</td>\n",
       "      <td>8</td>\n",
       "      <td>2</td>\n",
       "      <td>9</td>\n",
       "      <td>11</td>\n",
       "      <td>7</td>\n",
       "      <td>7</td>\n",
       "      <td>1</td>\n",
       "      <td>8</td>\n",
       "      <td>5</td>\n",
       "      <td>6</td>\n",
       "      <td>Z</td>\n",
       "    </tr>\n",
       "    <tr>\n",
       "      <th>1</th>\n",
       "      <td>4</td>\n",
       "      <td>7</td>\n",
       "      <td>5</td>\n",
       "      <td>5</td>\n",
       "      <td>5</td>\n",
       "      <td>5</td>\n",
       "      <td>9</td>\n",
       "      <td>6</td>\n",
       "      <td>4</td>\n",
       "      <td>8</td>\n",
       "      <td>7</td>\n",
       "      <td>9</td>\n",
       "      <td>2</td>\n",
       "      <td>9</td>\n",
       "      <td>7</td>\n",
       "      <td>10</td>\n",
       "      <td>P</td>\n",
       "    </tr>\n",
       "  </tbody>\n",
       "</table>\n",
       "</div>"
      ],
      "text/plain": [
       "   x-box  y-box  width  high  onpix  x-bar  y-bar  x2bar  y2bar  xybar  x2ybr  \\\n",
       "0      2      4      4     3      2      7      8      2      9     11      7   \n",
       "1      4      7      5     5      5      5      9      6      4      8      7   \n",
       "\n",
       "   xy2br  x-ege  xegvy  y-ege  yegvx letter  \n",
       "0      7      1      8      5      6      Z  \n",
       "1      9      2      9      7     10      P  "
      ]
     },
     "execution_count": 27,
     "metadata": {},
     "output_type": "execute_result"
    }
   ],
   "source": [
    "data.head(2)"
   ]
  },
  {
   "cell_type": "markdown",
   "id": "3d0a0be2-5d2b-4165-a9a5-f90f2c2f488b",
   "metadata": {
    "tags": []
   },
   "source": [
    "## Priprema podataka\n",
    "(podela uzorka, slaganje u kolone)"
   ]
  },
  {
   "cell_type": "code",
   "execution_count": 30,
   "id": "67df80fd-15de-4732-a56a-8cb7a6909625",
   "metadata": {
    "tags": []
   },
   "outputs": [
    {
     "data": {
      "text/plain": [
       "array([[2, 4, 4, ..., 8, 5, 6],\n",
       "       [4, 7, 5, ..., 9, 7, 10],\n",
       "       [7, 10, 8, ..., 5, 5, 10],\n",
       "       ...,\n",
       "       [4, 8, 4, ..., 9, 3, 7],\n",
       "       [4, 11, 4, ..., 8, 0, 8],\n",
       "       [5, 9, 6, ..., 8, 6, 8]], dtype=object)"
      ]
     },
     "execution_count": 30,
     "metadata": {},
     "output_type": "execute_result"
    }
   ],
   "source": [
    "x = np.array(data)[:, 0:16]\n",
    "x"
   ]
  },
  {
   "cell_type": "code",
   "execution_count": 31,
   "id": "a57f9a73-a9b0-42a1-9a44-6c6089ff296a",
   "metadata": {},
   "outputs": [
    {
     "data": {
      "text/plain": [
       "array(['Z', 'P', 'S', ..., 'O', 'L', 'Q'], dtype=object)"
      ]
     },
     "execution_count": 31,
     "metadata": {},
     "output_type": "execute_result"
    }
   ],
   "source": [
    "y = np.array(data['letter'])[:]\n",
    "y"
   ]
  },
  {
   "cell_type": "code",
   "execution_count": 38,
   "id": "b9c19e18-e191-4514-9ad6-adbc9a705139",
   "metadata": {},
   "outputs": [],
   "source": [
    "x_train = x[0:16000,0:17]\n",
    "x_test = x[16001:,:]\n",
    "y_train = y[0:16000]\n",
    "y_test = y[16001:]"
   ]
  },
  {
   "cell_type": "code",
   "execution_count": 33,
   "id": "12c2ad4b-a72f-4213-b212-feb10e68a3a2",
   "metadata": {},
   "outputs": [],
   "source": [
    "from sklearn import svm"
   ]
  },
  {
   "cell_type": "code",
   "execution_count": 34,
   "id": "0d6782b1-c28a-457b-836f-1bbee67d238d",
   "metadata": {},
   "outputs": [],
   "source": [
    "model = svm.SVC(C=3) #SVC je Suport vector classifier, postoji i SVR za regressor"
   ]
  },
  {
   "cell_type": "code",
   "execution_count": 35,
   "id": "96d75d9e-f24a-45ed-ba2b-6ccafb40ca55",
   "metadata": {},
   "outputs": [],
   "source": [
    "#C je penalty"
   ]
  },
  {
   "cell_type": "code",
   "execution_count": 39,
   "id": "ec58d63e-94ca-4ab6-bf99-ace571e3d832",
   "metadata": {},
   "outputs": [
    {
     "data": {
      "text/plain": [
       "SVC(C=3)"
      ]
     },
     "execution_count": 39,
     "metadata": {},
     "output_type": "execute_result"
    }
   ],
   "source": [
    "model.fit(x_test, y_test)"
   ]
  },
  {
   "cell_type": "code",
   "execution_count": 40,
   "id": "cb18e520-4f14-4cb3-91c0-7a17e89acbfc",
   "metadata": {},
   "outputs": [],
   "source": [
    "y_pred = model.predict(x_test)"
   ]
  },
  {
   "cell_type": "code",
   "execution_count": 41,
   "id": "4bba8b02-b082-4d23-98c3-98b204a2c8ea",
   "metadata": {},
   "outputs": [
    {
     "data": {
      "text/plain": [
       "array(['T', 'P', 'D', ..., 'O', 'L', 'Q'], dtype=object)"
      ]
     },
     "execution_count": 41,
     "metadata": {},
     "output_type": "execute_result"
    }
   ],
   "source": [
    "y_pred"
   ]
  },
  {
   "cell_type": "markdown",
   "id": "37f40470-28ad-4689-976f-25764670b5ef",
   "metadata": {},
   "source": [
    "## METRIKA"
   ]
  },
  {
   "cell_type": "code",
   "execution_count": 43,
   "id": "b2377fae-a7bd-4b4e-9670-630b3a20c8dc",
   "metadata": {},
   "outputs": [
    {
     "data": {
      "text/plain": [
       "0.940735183795949"
      ]
     },
     "execution_count": 43,
     "metadata": {},
     "output_type": "execute_result"
    }
   ],
   "source": [
    "model.score(x_test, y_test)"
   ]
  },
  {
   "cell_type": "code",
   "execution_count": 44,
   "id": "74028f7d-6f58-4042-9707-299c386f6403",
   "metadata": {},
   "outputs": [],
   "source": [
    "y_grid = np.column_stack([y_test, y_pred])"
   ]
  },
  {
   "cell_type": "code",
   "execution_count": 50,
   "id": "1fdfa953-d81d-45c0-951f-d756890ea0f9",
   "metadata": {},
   "outputs": [
    {
     "data": {
      "text/plain": [
       "array([['T', 'T'],\n",
       "       ['P', 'P'],\n",
       "       ['D', 'D'],\n",
       "       ...,\n",
       "       ['O', 'O'],\n",
       "       ['L', 'L'],\n",
       "       ['Q', 'Q']], dtype=object)"
      ]
     },
     "execution_count": 50,
     "metadata": {},
     "output_type": "execute_result"
    }
   ],
   "source": [
    "y_grid"
   ]
  },
  {
   "cell_type": "code",
   "execution_count": 51,
   "id": "5059000c-6805-4287-a32f-5672af885617",
   "metadata": {},
   "outputs": [],
   "source": [
    "#ovaj deo ispod je samo za imena na osi kada budemo pravili confusion matrix :)"
   ]
  },
  {
   "cell_type": "code",
   "execution_count": 46,
   "id": "2b6526fa-7756-4251-ba22-2672c9564d42",
   "metadata": {},
   "outputs": [],
   "source": [
    "import string"
   ]
  },
  {
   "cell_type": "code",
   "execution_count": 47,
   "id": "ab5f37eb-1357-4c1b-90c8-dc4fba4b1a9a",
   "metadata": {},
   "outputs": [],
   "source": [
    "lab = list(string.ascii_uppercase[0:26])"
   ]
  },
  {
   "cell_type": "code",
   "execution_count": 48,
   "id": "8084a12f-67e2-4ac4-97b4-b25b362dd7af",
   "metadata": {},
   "outputs": [],
   "source": [
    "plab = [\"predicted \" + s for s in lab]"
   ]
  },
  {
   "cell_type": "code",
   "execution_count": 49,
   "id": "c922dc74-d708-465a-b29d-d31a50868689",
   "metadata": {},
   "outputs": [
    {
     "data": {
      "text/plain": [
       "['predicted A',\n",
       " 'predicted B',\n",
       " 'predicted C',\n",
       " 'predicted D',\n",
       " 'predicted E',\n",
       " 'predicted F',\n",
       " 'predicted G',\n",
       " 'predicted H',\n",
       " 'predicted I',\n",
       " 'predicted J',\n",
       " 'predicted K',\n",
       " 'predicted L',\n",
       " 'predicted M',\n",
       " 'predicted N',\n",
       " 'predicted O',\n",
       " 'predicted P',\n",
       " 'predicted Q',\n",
       " 'predicted R',\n",
       " 'predicted S',\n",
       " 'predicted T',\n",
       " 'predicted U',\n",
       " 'predicted V',\n",
       " 'predicted W',\n",
       " 'predicted X',\n",
       " 'predicted Y',\n",
       " 'predicted Z']"
      ]
     },
     "execution_count": 49,
     "metadata": {},
     "output_type": "execute_result"
    }
   ],
   "source": [
    "plab"
   ]
  },
  {
   "cell_type": "code",
   "execution_count": 52,
   "id": "caf341f1-7a49-442a-a699-6408e3e7799f",
   "metadata": {},
   "outputs": [],
   "source": [
    "from sklearn.metrics import confusion_matrix"
   ]
  },
  {
   "cell_type": "code",
   "execution_count": 59,
   "id": "4fc16ae6-ec6a-4da2-b49f-c5e239d4e442",
   "metadata": {},
   "outputs": [
    {
     "data": {
      "application/javascript": [
       "\n",
       "        if (window._pyforest_update_imports_cell) { window._pyforest_update_imports_cell('from sklearn import metrics'); }\n",
       "    "
      ],
      "text/plain": [
       "<IPython.core.display.Javascript object>"
      ]
     },
     "metadata": {},
     "output_type": "display_data"
    }
   ],
   "source": [
    "cm = metrics.confusion_matrix(y_test, y_pred, labels=lab)"
   ]
  },
  {
   "cell_type": "code",
   "execution_count": 69,
   "id": "1b59c361-159e-4557-8bec-ed179763aa20",
   "metadata": {},
   "outputs": [
    {
     "data": {
      "text/plain": [
       "<function matplotlib.pyplot.show(close=None, block=None)>"
      ]
     },
     "execution_count": 69,
     "metadata": {},
     "output_type": "execute_result"
    },
    {
     "data": {
      "image/png": "[encoded data removed]",
      "text/plain": [
       "<Figure size 936x720 with 2 Axes>"
      ]
     },
     "metadata": {
      "needs_background": "light"
     },
     "output_type": "display_data"
    }
   ],
   "source": [
    "import seaborn as sns\n",
    "cm_df = pd.DataFrame(cm, index=[i for i in lab], columns=[i for i in plab])\n",
    "plt.figure(figsize=(13,10))\n",
    "sns.heatmap(cm_df, annot=True, fmt='g',cmap='PiYG')\n",
    "plt.show"
   ]
  },
  {
   "cell_type": "code",
   "execution_count": null,
   "id": "7079cdf9-2bd1-444e-8b83-619f5f1710e6",
   "metadata": {},
   "outputs": [],
   "source": []
  }
 ],
 "metadata": {
  "kernelspec": {
   "display_name": "Python 3 (ipykernel)",
   "language": "python",
   "name": "python3"
  },
  "language_info": {
   "codemirror_mode": {
    "name": "ipython",
    "version": 3
   },
   "file_extension": ".py",
   "mimetype": "text/x-python",
   "name": "python",
   "nbconvert_exporter": "python",
   "pygments_lexer": "ipython3",
   "version": "3.8.11"
  }
 },
 "nbformat": 4,
 "nbformat_minor": 5
}
