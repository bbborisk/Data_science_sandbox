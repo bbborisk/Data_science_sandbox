{
 "cells": [
  {
   "cell_type": "markdown",
   "id": "a9ce6aff-d542-462e-b423-b8880df0490d",
   "metadata": {
    "tags": []
   },
   "source": [
    "What we need:\n",
    "Pages\n",
    "Prices\n",
    "ratings\n",
    "titles\n",
    "images (url)"
   ]
  },
  {
   "cell_type": "code",
   "execution_count": 123,
   "id": "36d474d6-ef15-4963-a8ba-42ad3892341c",
   "metadata": {},
   "outputs": [],
   "source": [
    "#create empty lists\n",
    "\n",
    "pages = []\n",
    "ratings = []\n",
    "prices = []\n",
    "title = []\n",
    "urls = []"
   ]
  },
  {
   "cell_type": "code",
   "execution_count": 11,
   "id": "95a1edf8-d43d-47dd-a632-262a3b8a8976",
   "metadata": {},
   "outputs": [],
   "source": [
    "import requests\n",
    "import bs4"
   ]
  },
  {
   "cell_type": "code",
   "execution_count": 6,
   "id": "6349f060-7b0b-4f9a-aab5-9147c6b4bc56",
   "metadata": {},
   "outputs": [],
   "source": [
    "no_of_pages = 5 #uzimamo samo brvih 5 strana"
   ]
  },
  {
   "cell_type": "code",
   "execution_count": 124,
   "id": "2cd6a46a-afb8-4a60-9cf0-5e9e94b28f8d",
   "metadata": {},
   "outputs": [],
   "source": [
    "for i in range(1,no_of_pages+1):\n",
    "    url = ('http://books.toscrape.com/catalogue/category/books_{}/index.html'.format(i))\n",
    "    pages.append(url)"
   ]
  },
  {
   "cell_type": "code",
   "execution_count": 113,
   "id": "d9ece741-4420-47e0-b51c-9b90ea078b73",
   "metadata": {},
   "outputs": [
    {
     "data": {
      "text/plain": [
       "['http://books.toscrape.com/catalogue/category/books_1/index.html',\n",
       " 'http://books.toscrape.com/catalogue/category/books_2/index.html',\n",
       " 'http://books.toscrape.com/catalogue/category/books_3/index.html',\n",
       " 'http://books.toscrape.com/catalogue/category/books_4/index.html',\n",
       " 'http://books.toscrape.com/catalogue/category/books_5/index.html']"
      ]
     },
     "execution_count": 113,
     "metadata": {},
     "output_type": "execute_result"
    }
   ],
   "source": [
    "pages"
   ]
  },
  {
   "cell_type": "code",
   "execution_count": 125,
   "id": "523ba139-6f1c-4424-a2fd-558a5fa05a63",
   "metadata": {},
   "outputs": [],
   "source": [
    "for item in pages:\n",
    "    page = requests.get(item)\n",
    "    soup = bs4.BeautifulSoup(page.text,'html.parser')\n",
    "    #print(soup.prettify())\n",
    "    for t in soup.findAll('h3'): #svi naslovi su u h3 tagovima\n",
    "        titles_temp = t.getText()\n",
    "        title.append(titles_temp)\n",
    "    for p in soup.find_all('p', class_ = 'price_color'): #sve cene u p, sa klasom price_color\n",
    "        price_temp = p.getText()\n",
    "        prices.append(price_temp)\n",
    "    for r in soup.find_all('p', class_ = 'star-rating'):\n",
    "        for k,v in r.attrs.items():\n",
    "            #k predstav;ja rec, v predstavlja ostatak (star-rating i broj kao dva clana niza\n",
    "            #zato uzimamo v[1]\n",
    "            star = v[1]\n",
    "            ratings.append(star)\n",
    "    divs = soup.find_all('div', class_ = 'image_container')\n",
    "    for pics in divs:\n",
    "        pics_temp = pics.find('img', class_ = 'thumbnail')\n",
    "        link_temp = 'http://books.toscrape.com' + str(pics_temp['src'])\n",
    "        final_link = link_temp.replace('..','')\n",
    "        urls.append(final_link)\n"
   ]
  },
  {
   "cell_type": "markdown",
   "id": "5b683976-56e0-40aa-a9e3-6bee50f55394",
   "metadata": {},
   "source": [
    "Proverio sam sve liste, nisam ostavio da ne bih pravio shum. Popunjene su sve, sada od njih pravim dataframe\n"
   ]
  },
  {
   "cell_type": "code",
   "execution_count": 117,
   "id": "2b1bb458-4b36-4a64-89fb-13d0ec965649",
   "metadata": {},
   "outputs": [],
   "source": [
    "import pandas as pd"
   ]
  },
  {
   "cell_type": "code",
   "execution_count": 118,
   "id": "77853c10-1185-447c-8009-7d78417654f1",
   "metadata": {},
   "outputs": [],
   "source": [
    "web_data = {'Title':title,'Price':prices,'Rating':ratings,'URL':urls} #mora biti istibroj clanova"
   ]
  },
  {
   "cell_type": "code",
   "execution_count": 127,
   "id": "26ec90ff-c906-4088-ae6e-3d498e00ec89",
   "metadata": {},
   "outputs": [],
   "source": [
    "df = pd.DataFrame(web_data)"
   ]
  },
  {
   "cell_type": "code",
   "execution_count": 128,
   "id": "7cc2a8a1-64ac-4bee-bef2-4ff3474ccb02",
   "metadata": {},
   "outputs": [
    {
     "data": {
      "text/html": [
       "<div>\n",
       "<style scoped>\n",
       "    .dataframe tbody tr th:only-of-type {\n",
       "        vertical-align: middle;\n",
       "    }\n",
       "\n",
       "    .dataframe tbody tr th {\n",
       "        vertical-align: top;\n",
       "    }\n",
       "\n",
       "    .dataframe thead th {\n",
       "        text-align: right;\n",
       "    }\n",
       "</style>\n",
       "<table border=\"1\" class=\"dataframe\">\n",
       "  <thead>\n",
       "    <tr style=\"text-align: right;\">\n",
       "      <th></th>\n",
       "      <th>Title</th>\n",
       "      <th>Price</th>\n",
       "      <th>Rating</th>\n",
       "      <th>URL</th>\n",
       "    </tr>\n",
       "  </thead>\n",
       "  <tbody>\n",
       "    <tr>\n",
       "      <th>0</th>\n",
       "      <td>A Light in the ...</td>\n",
       "      <td>Â£51.77</td>\n",
       "      <td>Three</td>\n",
       "      <td>http://books.toscrape.com///media/cache/2c/da/...</td>\n",
       "    </tr>\n",
       "    <tr>\n",
       "      <th>1</th>\n",
       "      <td>Tipping the Velvet</td>\n",
       "      <td>Â£53.74</td>\n",
       "      <td>One</td>\n",
       "      <td>http://books.toscrape.com///media/cache/26/0c/...</td>\n",
       "    </tr>\n",
       "    <tr>\n",
       "      <th>2</th>\n",
       "      <td>Soumission</td>\n",
       "      <td>Â£50.10</td>\n",
       "      <td>One</td>\n",
       "      <td>http://books.toscrape.com///media/cache/3e/ef/...</td>\n",
       "    </tr>\n",
       "    <tr>\n",
       "      <th>3</th>\n",
       "      <td>Sharp Objects</td>\n",
       "      <td>Â£47.82</td>\n",
       "      <td>Four</td>\n",
       "      <td>http://books.toscrape.com///media/cache/32/51/...</td>\n",
       "    </tr>\n",
       "    <tr>\n",
       "      <th>4</th>\n",
       "      <td>Sapiens: A Brief History ...</td>\n",
       "      <td>Â£54.23</td>\n",
       "      <td>Five</td>\n",
       "      <td>http://books.toscrape.com///media/cache/be/a5/...</td>\n",
       "    </tr>\n",
       "    <tr>\n",
       "      <th>...</th>\n",
       "      <td>...</td>\n",
       "      <td>...</td>\n",
       "      <td>...</td>\n",
       "      <td>...</td>\n",
       "    </tr>\n",
       "    <tr>\n",
       "      <th>95</th>\n",
       "      <td>Our Band Could Be ...</td>\n",
       "      <td>Â£57.25</td>\n",
       "      <td>Three</td>\n",
       "      <td>http://books.toscrape.com///media/cache/54/60/...</td>\n",
       "    </tr>\n",
       "    <tr>\n",
       "      <th>96</th>\n",
       "      <td>Olio</td>\n",
       "      <td>Â£23.88</td>\n",
       "      <td>One</td>\n",
       "      <td>http://books.toscrape.com///media/cache/55/33/...</td>\n",
       "    </tr>\n",
       "    <tr>\n",
       "      <th>97</th>\n",
       "      <td>Mesaerion: The Best Science ...</td>\n",
       "      <td>Â£37.59</td>\n",
       "      <td>One</td>\n",
       "      <td>http://books.toscrape.com///media/cache/09/a3/...</td>\n",
       "    </tr>\n",
       "    <tr>\n",
       "      <th>98</th>\n",
       "      <td>Libertarianism for Beginners</td>\n",
       "      <td>Â£51.33</td>\n",
       "      <td>Two</td>\n",
       "      <td>http://books.toscrape.com///media/cache/0b/bc/...</td>\n",
       "    </tr>\n",
       "    <tr>\n",
       "      <th>99</th>\n",
       "      <td>It's Only the Himalayas</td>\n",
       "      <td>Â£45.17</td>\n",
       "      <td>Two</td>\n",
       "      <td>http://books.toscrape.com///media/cache/27/a5/...</td>\n",
       "    </tr>\n",
       "  </tbody>\n",
       "</table>\n",
       "<p>100 rows × 4 columns</p>\n",
       "</div>"
      ],
      "text/plain": [
       "                              Title    Price Rating  \\\n",
       "0                A Light in the ...  Â£51.77  Three   \n",
       "1                Tipping the Velvet  Â£53.74    One   \n",
       "2                        Soumission  Â£50.10    One   \n",
       "3                     Sharp Objects  Â£47.82   Four   \n",
       "4      Sapiens: A Brief History ...  Â£54.23   Five   \n",
       "..                              ...      ...    ...   \n",
       "95            Our Band Could Be ...  Â£57.25  Three   \n",
       "96                             Olio  Â£23.88    One   \n",
       "97  Mesaerion: The Best Science ...  Â£37.59    One   \n",
       "98     Libertarianism for Beginners  Â£51.33    Two   \n",
       "99          It's Only the Himalayas  Â£45.17    Two   \n",
       "\n",
       "                                                  URL  \n",
       "0   http://books.toscrape.com///media/cache/2c/da/...  \n",
       "1   http://books.toscrape.com///media/cache/26/0c/...  \n",
       "2   http://books.toscrape.com///media/cache/3e/ef/...  \n",
       "3   http://books.toscrape.com///media/cache/32/51/...  \n",
       "4   http://books.toscrape.com///media/cache/be/a5/...  \n",
       "..                                                ...  \n",
       "95  http://books.toscrape.com///media/cache/54/60/...  \n",
       "96  http://books.toscrape.com///media/cache/55/33/...  \n",
       "97  http://books.toscrape.com///media/cache/09/a3/...  \n",
       "98  http://books.toscrape.com///media/cache/0b/bc/...  \n",
       "99  http://books.toscrape.com///media/cache/27/a5/...  \n",
       "\n",
       "[100 rows x 4 columns]"
      ]
     },
     "execution_count": 128,
     "metadata": {},
     "output_type": "execute_result"
    }
   ],
   "source": [
    "df"
   ]
  },
  {
   "cell_type": "code",
   "execution_count": 129,
   "id": "141b0800-6c13-49bb-92b2-e3eb1e6118de",
   "metadata": {},
   "outputs": [],
   "source": [
    "#hocu da indeksi pocinju od 1 a ne od 0\n",
    "df.index+=1"
   ]
  },
  {
   "cell_type": "code",
   "execution_count": null,
   "id": "48f497ed-9b8c-4594-9c1c-a359fee82324",
   "metadata": {},
   "outputs": [],
   "source": [
    "#remove currency from price\n"
   ]
  },
  {
   "cell_type": "code",
   "execution_count": 135,
   "id": "fe3d7e39-f275-4dd4-8df1-a329103b7da1",
   "metadata": {},
   "outputs": [
    {
     "data": {
      "text/plain": [
       "Index(['Title', 'Price', 'Rating', 'URL'], dtype='object')"
      ]
     },
     "execution_count": 135,
     "metadata": {},
     "output_type": "execute_result"
    }
   ],
   "source": [
    "df.columns"
   ]
  },
  {
   "cell_type": "code",
   "execution_count": 133,
   "id": "1747f1f8-2909-4641-b9c0-f09c64cef5da",
   "metadata": {},
   "outputs": [],
   "source": [
    "df['Price']=df['Price'].str.replace('Â£','')"
   ]
  },
  {
   "cell_type": "code",
   "execution_count": 136,
   "id": "5493ab2f-9752-44be-a01f-38a39d90fccb",
   "metadata": {},
   "outputs": [
    {
     "data": {
      "text/plain": [
       "1      51.77\n",
       "2      53.74\n",
       "3      50.10\n",
       "4      47.82\n",
       "5      54.23\n",
       "       ...  \n",
       "96     57.25\n",
       "97     23.88\n",
       "98     37.59\n",
       "99     51.33\n",
       "100    45.17\n",
       "Name: Price, Length: 100, dtype: object"
      ]
     },
     "execution_count": 136,
     "metadata": {},
     "output_type": "execute_result"
    }
   ],
   "source": [
    "df['Price']"
   ]
  },
  {
   "cell_type": "code",
   "execution_count": 137,
   "id": "5daf0fa7-621e-46af-881e-6dd7d02e6f64",
   "metadata": {},
   "outputs": [
    {
     "data": {
      "text/html": [
       "<div>\n",
       "<style scoped>\n",
       "    .dataframe tbody tr th:only-of-type {\n",
       "        vertical-align: middle;\n",
       "    }\n",
       "\n",
       "    .dataframe tbody tr th {\n",
       "        vertical-align: top;\n",
       "    }\n",
       "\n",
       "    .dataframe thead th {\n",
       "        text-align: right;\n",
       "    }\n",
       "</style>\n",
       "<table border=\"1\" class=\"dataframe\">\n",
       "  <thead>\n",
       "    <tr style=\"text-align: right;\">\n",
       "      <th></th>\n",
       "      <th>Title</th>\n",
       "      <th>Price</th>\n",
       "      <th>Rating</th>\n",
       "      <th>URL</th>\n",
       "    </tr>\n",
       "  </thead>\n",
       "  <tbody>\n",
       "    <tr>\n",
       "      <th>36</th>\n",
       "      <td>Our Band Could Be ...</td>\n",
       "      <td>57.25</td>\n",
       "      <td>Three</td>\n",
       "      <td>http://books.toscrape.com///media/cache/54/60/...</td>\n",
       "    </tr>\n",
       "    <tr>\n",
       "      <th>76</th>\n",
       "      <td>Our Band Could Be ...</td>\n",
       "      <td>57.25</td>\n",
       "      <td>Three</td>\n",
       "      <td>http://books.toscrape.com///media/cache/54/60/...</td>\n",
       "    </tr>\n",
       "    <tr>\n",
       "      <th>96</th>\n",
       "      <td>Our Band Could Be ...</td>\n",
       "      <td>57.25</td>\n",
       "      <td>Three</td>\n",
       "      <td>http://books.toscrape.com///media/cache/54/60/...</td>\n",
       "    </tr>\n",
       "    <tr>\n",
       "      <th>56</th>\n",
       "      <td>Our Band Could Be ...</td>\n",
       "      <td>57.25</td>\n",
       "      <td>Three</td>\n",
       "      <td>http://books.toscrape.com///media/cache/54/60/...</td>\n",
       "    </tr>\n",
       "    <tr>\n",
       "      <th>16</th>\n",
       "      <td>Our Band Could Be ...</td>\n",
       "      <td>57.25</td>\n",
       "      <td>Three</td>\n",
       "      <td>http://books.toscrape.com///media/cache/54/60/...</td>\n",
       "    </tr>\n",
       "    <tr>\n",
       "      <th>...</th>\n",
       "      <td>...</td>\n",
       "      <td>...</td>\n",
       "      <td>...</td>\n",
       "      <td>...</td>\n",
       "    </tr>\n",
       "    <tr>\n",
       "      <th>91</th>\n",
       "      <td>Starving Hearts (Triangular Trade ...</td>\n",
       "      <td>13.99</td>\n",
       "      <td>Two</td>\n",
       "      <td>http://books.toscrape.com///media/cache/be/f4/...</td>\n",
       "    </tr>\n",
       "    <tr>\n",
       "      <th>11</th>\n",
       "      <td>Starving Hearts (Triangular Trade ...</td>\n",
       "      <td>13.99</td>\n",
       "      <td>Two</td>\n",
       "      <td>http://books.toscrape.com///media/cache/be/f4/...</td>\n",
       "    </tr>\n",
       "    <tr>\n",
       "      <th>31</th>\n",
       "      <td>Starving Hearts (Triangular Trade ...</td>\n",
       "      <td>13.99</td>\n",
       "      <td>Two</td>\n",
       "      <td>http://books.toscrape.com///media/cache/be/f4/...</td>\n",
       "    </tr>\n",
       "    <tr>\n",
       "      <th>71</th>\n",
       "      <td>Starving Hearts (Triangular Trade ...</td>\n",
       "      <td>13.99</td>\n",
       "      <td>Two</td>\n",
       "      <td>http://books.toscrape.com///media/cache/be/f4/...</td>\n",
       "    </tr>\n",
       "    <tr>\n",
       "      <th>51</th>\n",
       "      <td>Starving Hearts (Triangular Trade ...</td>\n",
       "      <td>13.99</td>\n",
       "      <td>Two</td>\n",
       "      <td>http://books.toscrape.com///media/cache/be/f4/...</td>\n",
       "    </tr>\n",
       "  </tbody>\n",
       "</table>\n",
       "<p>100 rows × 4 columns</p>\n",
       "</div>"
      ],
      "text/plain": [
       "                                    Title  Price Rating  \\\n",
       "36                  Our Band Could Be ...  57.25  Three   \n",
       "76                  Our Band Could Be ...  57.25  Three   \n",
       "96                  Our Band Could Be ...  57.25  Three   \n",
       "56                  Our Band Could Be ...  57.25  Three   \n",
       "16                  Our Band Could Be ...  57.25  Three   \n",
       "..                                    ...    ...    ...   \n",
       "91  Starving Hearts (Triangular Trade ...  13.99    Two   \n",
       "11  Starving Hearts (Triangular Trade ...  13.99    Two   \n",
       "31  Starving Hearts (Triangular Trade ...  13.99    Two   \n",
       "71  Starving Hearts (Triangular Trade ...  13.99    Two   \n",
       "51  Starving Hearts (Triangular Trade ...  13.99    Two   \n",
       "\n",
       "                                                  URL  \n",
       "36  http://books.toscrape.com///media/cache/54/60/...  \n",
       "76  http://books.toscrape.com///media/cache/54/60/...  \n",
       "96  http://books.toscrape.com///media/cache/54/60/...  \n",
       "56  http://books.toscrape.com///media/cache/54/60/...  \n",
       "16  http://books.toscrape.com///media/cache/54/60/...  \n",
       "..                                                ...  \n",
       "91  http://books.toscrape.com///media/cache/be/f4/...  \n",
       "11  http://books.toscrape.com///media/cache/be/f4/...  \n",
       "31  http://books.toscrape.com///media/cache/be/f4/...  \n",
       "71  http://books.toscrape.com///media/cache/be/f4/...  \n",
       "51  http://books.toscrape.com///media/cache/be/f4/...  \n",
       "\n",
       "[100 rows x 4 columns]"
      ]
     },
     "execution_count": 137,
     "metadata": {},
     "output_type": "execute_result"
    }
   ],
   "source": [
    "#sortiramo po cenama\n",
    "df.sort_values(by=\"Price\", ascending = False)"
   ]
  },
  {
   "cell_type": "code",
   "execution_count": 141,
   "id": "49a7bf6e-d0a8-4ff8-92e9-9654b36e4c87",
   "metadata": {},
   "outputs": [],
   "source": [
    "df['Rating']= df['Rating'].replace({'Five':5,'Four':4,'Three':3,'Two':2,'One':1})"
   ]
  },
  {
   "cell_type": "code",
   "execution_count": 142,
   "id": "1c9696dd-4b3e-4463-a801-98fb17da6e46",
   "metadata": {},
   "outputs": [
    {
     "data": {
      "text/plain": [
       "1      3\n",
       "2      1\n",
       "3      1\n",
       "4      4\n",
       "5      5\n",
       "      ..\n",
       "96     3\n",
       "97     1\n",
       "98     1\n",
       "99     2\n",
       "100    2\n",
       "Name: Rating, Length: 100, dtype: int64"
      ]
     },
     "execution_count": 142,
     "metadata": {},
     "output_type": "execute_result"
    }
   ],
   "source": [
    "df['Rating']"
   ]
  },
  {
   "cell_type": "code",
   "execution_count": null,
   "id": "72a48b37-bd73-4da9-a937-997ec0a47a01",
   "metadata": {},
   "outputs": [],
   "source": []
  }
 ],
 "metadata": {
  "kernelspec": {
   "display_name": "Python 3 (ipykernel)",
   "language": "python",
   "name": "python3"
  },
  "language_info": {
   "codemirror_mode": {
    "name": "ipython",
    "version": 3
   },
   "file_extension": ".py",
   "mimetype": "text/x-python",
   "name": "python",
   "nbconvert_exporter": "python",
   "pygments_lexer": "ipython3",
   "version": "3.8.11"
  }
 },
 "nbformat": 4,
 "nbformat_minor": 5
}
