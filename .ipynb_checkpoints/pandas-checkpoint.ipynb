{
 "cells": [
  {
   "cell_type": "code",
   "execution_count": 2,
   "id": "006fcd55-55f1-4849-9c73-402240ca57f3",
   "metadata": {},
   "outputs": [],
   "source": [
    "import pandas as pd\n",
    "import numpy as np"
   ]
  },
  {
   "cell_type": "code",
   "execution_count": 6,
   "id": "1108ef97-424f-4fdd-b972-903aed128c90",
   "metadata": {},
   "outputs": [],
   "source": [
    "#pd.Series?\n",
    "#pd.DataFrame?"
   ]
  },
  {
   "cell_type": "code",
   "execution_count": 7,
   "id": "e789af61-72bd-4aeb-aae2-d25b4198e040",
   "metadata": {},
   "outputs": [
    {
     "data": {
      "text/plain": [
       "['lion', 'cat', 'dog', 'fish']"
      ]
     },
     "execution_count": 7,
     "metadata": {},
     "output_type": "execute_result"
    }
   ],
   "source": [
    "pets = [\"lion\",\"cat\",\"dog\",\"fish\"]\n",
    "pets"
   ]
  },
  {
   "cell_type": "code",
   "execution_count": 8,
   "id": "b1c51d5f-12b1-4b91-b486-86242830d528",
   "metadata": {},
   "outputs": [
    {
     "data": {
      "text/plain": [
       "0    lion\n",
       "1     cat\n",
       "2     dog\n",
       "3    fish\n",
       "dtype: object"
      ]
     },
     "execution_count": 8,
     "metadata": {},
     "output_type": "execute_result"
    }
   ],
   "source": [
    "pd.Series(pets) #pravi objekat (Series / kolonu) od liste, indeksi su default intovi od nule"
   ]
  },
  {
   "cell_type": "code",
   "execution_count": 9,
   "id": "6b2aba19-f7f0-4b16-be15-bedba5cb9df7",
   "metadata": {},
   "outputs": [
    {
     "data": {
      "text/plain": [
       "pon    matematika\n",
       "uto      engleski\n",
       "sre        srpski\n",
       "cet        fizika\n",
       "pet        hemija\n",
       "dtype: object"
      ]
     },
     "execution_count": 9,
     "metadata": {},
     "output_type": "execute_result"
    }
   ],
   "source": [
    "days = [\"pon\",\"uto\",\"sre\",\"cet\",\"pet\"]\n",
    "classes = [\"matematika\",\"engleski\",\"srpski\",\"fizika\",\"hemija\"]\n",
    "pd.Series(classes, index = days) # pravi objekat, ;iji su indexi iz nekog niza"
   ]
  },
  {
   "cell_type": "code",
   "execution_count": 10,
   "id": "07a7a497-3fd4-4118-a11d-b910014f7691",
   "metadata": {},
   "outputs": [],
   "source": [
    "days = pd.Series([\"pon\",\"uto\",\"sre\",\"cet\",\"pet\"],index=[\"dan 1\",\"dan 2\",\"dan 3\",\"dan 4\",\"dan 5\"])"
   ]
  },
  {
   "cell_type": "code",
   "execution_count": 11,
   "id": "2932057e-9c5b-46b3-b4c4-7848cb46956f",
   "metadata": {},
   "outputs": [
    {
     "data": {
      "text/plain": [
       "dan 1    pon\n",
       "dan 2    uto\n",
       "dan 3    sre\n",
       "dan 4    cet\n",
       "dan 5    pet\n",
       "dtype: object"
      ]
     },
     "execution_count": 11,
     "metadata": {},
     "output_type": "execute_result"
    }
   ],
   "source": [
    "days"
   ]
  },
  {
   "cell_type": "code",
   "execution_count": 15,
   "id": "762a27a0-e07d-4e6a-8367-f9203a48315e",
   "metadata": {},
   "outputs": [
    {
     "data": {
      "text/plain": [
       "dan 1    matematika\n",
       "dan 2      engleski\n",
       "dan 3        srpski\n",
       "dan 4        fizika\n",
       "dan 5        hemija\n",
       "dtype: object"
      ]
     },
     "execution_count": 15,
     "metadata": {},
     "output_type": "execute_result"
    }
   ],
   "source": [
    "classes1 =  pd.Series([\"matematika\",\"engleski\",\"srpski\",\"fizika\",\"hemija\"], index=\"dan 1,dan 2,dan 3,dan 4,dan 5\".split(\",\"))\n",
    "classes1"
   ]
  },
  {
   "cell_type": "code",
   "execution_count": 19,
   "id": "fc34d006-62a0-4580-85d1-dc673c53a02c",
   "metadata": {},
   "outputs": [
    {
     "data": {
      "text/plain": [
       "dan 1    pon_matematika\n",
       "dan 2      uto_engleski\n",
       "dan 3        sre_srpski\n",
       "dan 4        cet_fizika\n",
       "dan 5        pet_hemija\n",
       "dtype: object"
      ]
     },
     "execution_count": 19,
     "metadata": {},
     "output_type": "execute_result"
    }
   ],
   "source": [
    "days +'_' + classes1 #ako imaju iste indekse, serije se mogu sabirati"
   ]
  },
  {
   "cell_type": "code",
   "execution_count": 20,
   "id": "009965cb-f783-407b-a748-74f5a0cf8a94",
   "metadata": {},
   "outputs": [
    {
     "data": {
      "text/plain": [
       "'engleski'"
      ]
     },
     "execution_count": 20,
     "metadata": {},
     "output_type": "execute_result"
    }
   ],
   "source": [
    "classes1[\"dan 2\"]"
   ]
  },
  {
   "cell_type": "code",
   "execution_count": 26,
   "id": "80af8385-c147-48a0-8708-b0b192c6fab3",
   "metadata": {},
   "outputs": [
    {
     "data": {
      "text/plain": [
       "'engleski'"
      ]
     },
     "execution_count": 26,
     "metadata": {},
     "output_type": "execute_result"
    }
   ],
   "source": [
    "classes1.loc[\"dan 2\"] #daje objekat pod indeksom \"dan 2\" (kao i zagrade"
   ]
  },
  {
   "cell_type": "code",
   "execution_count": 27,
   "id": "36c37a39-4e1b-4e02-93c0-13d6cbea7bac",
   "metadata": {},
   "outputs": [
    {
     "data": {
      "text/plain": [
       "'srpski'"
      ]
     },
     "execution_count": 27,
     "metadata": {},
     "output_type": "execute_result"
    }
   ],
   "source": [
    "classes1.iloc[2] #iloc daje objekat pod indexom koji je 2 po redu (int umesto kategorije)"
   ]
  },
  {
   "cell_type": "code",
   "execution_count": 28,
   "id": "d87f859e-dc4c-44b2-a315-c904161d38d8",
   "metadata": {},
   "outputs": [
    {
     "data": {
      "text/plain": [
       "array([[ 0.15056031, -0.70359712,  2.2404084 ,  0.74884003, -1.9453916 ],\n",
       "       [-0.35146582,  0.25833477, -0.11005681, -0.65011794,  1.44951578],\n",
       "       [-0.98337443,  0.9916231 ,  0.73658601, -0.49982549,  2.17307751],\n",
       "       [-1.62300389, -0.88325837,  0.16517731,  1.1667677 , -1.23159903],\n",
       "       [ 1.97102435,  1.73470567, -1.43670632, -1.0386341 , -1.05361875],\n",
       "       [-1.32015719,  0.13332867,  0.39272445, -1.07193423, -0.08873071],\n",
       "       [ 1.27781917, -1.38120815, -1.47735257,  1.88552434,  1.7763567 ],\n",
       "       [-1.10082998,  1.04471435, -0.96285705,  0.972912  , -0.70723204],\n",
       "       [-0.88393133,  0.93579926, -0.45725905,  1.21128641, -0.01282207],\n",
       "       [ 0.72111126, -0.19967691, -0.28084769,  0.06533006,  0.1423037 ]])"
      ]
     },
     "execution_count": 28,
     "metadata": {},
     "output_type": "execute_result"
    }
   ],
   "source": [
    "np.random.randn(10,5) #daje matricu 10 redova, 5 kolona, iz normalne raspodele "
   ]
  },
  {
   "cell_type": "code",
   "execution_count": 30,
   "id": "dce833e1-ea72-4f9b-82d1-4761fbe9d169",
   "metadata": {},
   "outputs": [],
   "source": [
    "# stavljanje informacija u dataframe, daje ime kolonama i redovima(indexima)\n",
    "my_dataframe = pd.DataFrame(np.random.randn(10,5),columns=\"col1,col2,col3,col4,col5\".split(\",\"),index=\"row1,row2,row3,row4,row5,row6,row7,row8,row9,row10\".split(\",\"))"
   ]
  },
  {
   "cell_type": "code",
   "execution_count": 32,
   "id": "e92b27cf-472d-4a36-9e77-d524cfde8153",
   "metadata": {},
   "outputs": [
    {
     "data": {
      "text/html": [
       "<div>\n",
       "<style scoped>\n",
       "    .dataframe tbody tr th:only-of-type {\n",
       "        vertical-align: middle;\n",
       "    }\n",
       "\n",
       "    .dataframe tbody tr th {\n",
       "        vertical-align: top;\n",
       "    }\n",
       "\n",
       "    .dataframe thead th {\n",
       "        text-align: right;\n",
       "    }\n",
       "</style>\n",
       "<table border=\"1\" class=\"dataframe\">\n",
       "  <thead>\n",
       "    <tr style=\"text-align: right;\">\n",
       "      <th></th>\n",
       "      <th>col1</th>\n",
       "      <th>col2</th>\n",
       "      <th>col3</th>\n",
       "      <th>col4</th>\n",
       "      <th>col5</th>\n",
       "    </tr>\n",
       "  </thead>\n",
       "  <tbody>\n",
       "    <tr>\n",
       "      <th>row1</th>\n",
       "      <td>-1.429960</td>\n",
       "      <td>-0.422057</td>\n",
       "      <td>-2.699671</td>\n",
       "      <td>0.910851</td>\n",
       "      <td>0.651849</td>\n",
       "    </tr>\n",
       "    <tr>\n",
       "      <th>row2</th>\n",
       "      <td>-0.721126</td>\n",
       "      <td>0.905256</td>\n",
       "      <td>0.987047</td>\n",
       "      <td>-1.002845</td>\n",
       "      <td>-0.076849</td>\n",
       "    </tr>\n",
       "    <tr>\n",
       "      <th>row3</th>\n",
       "      <td>-1.602416</td>\n",
       "      <td>-1.325939</td>\n",
       "      <td>-0.232246</td>\n",
       "      <td>-0.012634</td>\n",
       "      <td>1.338199</td>\n",
       "    </tr>\n",
       "    <tr>\n",
       "      <th>row4</th>\n",
       "      <td>0.705934</td>\n",
       "      <td>0.636298</td>\n",
       "      <td>2.387515</td>\n",
       "      <td>-0.458989</td>\n",
       "      <td>1.573588</td>\n",
       "    </tr>\n",
       "    <tr>\n",
       "      <th>row5</th>\n",
       "      <td>-0.256346</td>\n",
       "      <td>0.117014</td>\n",
       "      <td>-0.555663</td>\n",
       "      <td>2.337522</td>\n",
       "      <td>-0.616541</td>\n",
       "    </tr>\n",
       "    <tr>\n",
       "      <th>row6</th>\n",
       "      <td>-0.776473</td>\n",
       "      <td>0.867676</td>\n",
       "      <td>1.041223</td>\n",
       "      <td>0.137781</td>\n",
       "      <td>0.840287</td>\n",
       "    </tr>\n",
       "    <tr>\n",
       "      <th>row7</th>\n",
       "      <td>-0.520079</td>\n",
       "      <td>-0.460014</td>\n",
       "      <td>-0.573226</td>\n",
       "      <td>1.766776</td>\n",
       "      <td>-1.081582</td>\n",
       "    </tr>\n",
       "    <tr>\n",
       "      <th>row8</th>\n",
       "      <td>-0.362978</td>\n",
       "      <td>0.279202</td>\n",
       "      <td>-0.137292</td>\n",
       "      <td>0.197732</td>\n",
       "      <td>0.026514</td>\n",
       "    </tr>\n",
       "    <tr>\n",
       "      <th>row9</th>\n",
       "      <td>2.071926</td>\n",
       "      <td>1.336749</td>\n",
       "      <td>-1.207104</td>\n",
       "      <td>-1.622328</td>\n",
       "      <td>1.321120</td>\n",
       "    </tr>\n",
       "    <tr>\n",
       "      <th>row10</th>\n",
       "      <td>-0.251132</td>\n",
       "      <td>0.447229</td>\n",
       "      <td>-1.987013</td>\n",
       "      <td>0.123522</td>\n",
       "      <td>0.947523</td>\n",
       "    </tr>\n",
       "  </tbody>\n",
       "</table>\n",
       "</div>"
      ],
      "text/plain": [
       "           col1      col2      col3      col4      col5\n",
       "row1  -1.429960 -0.422057 -2.699671  0.910851  0.651849\n",
       "row2  -0.721126  0.905256  0.987047 -1.002845 -0.076849\n",
       "row3  -1.602416 -1.325939 -0.232246 -0.012634  1.338199\n",
       "row4   0.705934  0.636298  2.387515 -0.458989  1.573588\n",
       "row5  -0.256346  0.117014 -0.555663  2.337522 -0.616541\n",
       "row6  -0.776473  0.867676  1.041223  0.137781  0.840287\n",
       "row7  -0.520079 -0.460014 -0.573226  1.766776 -1.081582\n",
       "row8  -0.362978  0.279202 -0.137292  0.197732  0.026514\n",
       "row9   2.071926  1.336749 -1.207104 -1.622328  1.321120\n",
       "row10 -0.251132  0.447229 -1.987013  0.123522  0.947523"
      ]
     },
     "execution_count": 32,
     "metadata": {},
     "output_type": "execute_result"
    }
   ],
   "source": [
    "my_dataframe"
   ]
  },
  {
   "cell_type": "code",
   "execution_count": 35,
   "id": "7f35e3da-5e83-439c-b1da-1eb67c933933",
   "metadata": {},
   "outputs": [
    {
     "data": {
      "text/plain": [
       "pandas.core.series.Series"
      ]
     },
     "execution_count": 35,
     "metadata": {},
     "output_type": "execute_result"
    }
   ],
   "source": [
    "type(my_dataframe[\"col1\"]) #sve kolone su tipa Series"
   ]
  },
  {
   "cell_type": "code",
   "execution_count": 36,
   "id": "eb0b0ec5-490e-4952-801b-e854fc9530dd",
   "metadata": {},
   "outputs": [
    {
     "data": {
      "text/plain": [
       "row1    -1.429960\n",
       "row2    -0.721126\n",
       "row3    -1.602416\n",
       "row4     0.705934\n",
       "row5    -0.256346\n",
       "row6    -0.776473\n",
       "row7    -0.520079\n",
       "row8    -0.362978\n",
       "row9     2.071926\n",
       "row10   -0.251132\n",
       "Name: col1, dtype: float64"
      ]
     },
     "execution_count": 36,
     "metadata": {},
     "output_type": "execute_result"
    }
   ],
   "source": [
    "my_dataframe[\"col1\"]"
   ]
  },
  {
   "cell_type": "code",
   "execution_count": 37,
   "id": "1a883632-0e5c-475f-a51f-154bf537070d",
   "metadata": {},
   "outputs": [
    {
     "data": {
      "text/html": [
       "<div>\n",
       "<style scoped>\n",
       "    .dataframe tbody tr th:only-of-type {\n",
       "        vertical-align: middle;\n",
       "    }\n",
       "\n",
       "    .dataframe tbody tr th {\n",
       "        vertical-align: top;\n",
       "    }\n",
       "\n",
       "    .dataframe thead th {\n",
       "        text-align: right;\n",
       "    }\n",
       "</style>\n",
       "<table border=\"1\" class=\"dataframe\">\n",
       "  <thead>\n",
       "    <tr style=\"text-align: right;\">\n",
       "      <th></th>\n",
       "      <th>col1</th>\n",
       "      <th>col3</th>\n",
       "    </tr>\n",
       "  </thead>\n",
       "  <tbody>\n",
       "    <tr>\n",
       "      <th>row1</th>\n",
       "      <td>-1.429960</td>\n",
       "      <td>-2.699671</td>\n",
       "    </tr>\n",
       "    <tr>\n",
       "      <th>row2</th>\n",
       "      <td>-0.721126</td>\n",
       "      <td>0.987047</td>\n",
       "    </tr>\n",
       "    <tr>\n",
       "      <th>row3</th>\n",
       "      <td>-1.602416</td>\n",
       "      <td>-0.232246</td>\n",
       "    </tr>\n",
       "    <tr>\n",
       "      <th>row4</th>\n",
       "      <td>0.705934</td>\n",
       "      <td>2.387515</td>\n",
       "    </tr>\n",
       "    <tr>\n",
       "      <th>row5</th>\n",
       "      <td>-0.256346</td>\n",
       "      <td>-0.555663</td>\n",
       "    </tr>\n",
       "    <tr>\n",
       "      <th>row6</th>\n",
       "      <td>-0.776473</td>\n",
       "      <td>1.041223</td>\n",
       "    </tr>\n",
       "    <tr>\n",
       "      <th>row7</th>\n",
       "      <td>-0.520079</td>\n",
       "      <td>-0.573226</td>\n",
       "    </tr>\n",
       "    <tr>\n",
       "      <th>row8</th>\n",
       "      <td>-0.362978</td>\n",
       "      <td>-0.137292</td>\n",
       "    </tr>\n",
       "    <tr>\n",
       "      <th>row9</th>\n",
       "      <td>2.071926</td>\n",
       "      <td>-1.207104</td>\n",
       "    </tr>\n",
       "    <tr>\n",
       "      <th>row10</th>\n",
       "      <td>-0.251132</td>\n",
       "      <td>-1.987013</td>\n",
       "    </tr>\n",
       "  </tbody>\n",
       "</table>\n",
       "</div>"
      ],
      "text/plain": [
       "           col1      col3\n",
       "row1  -1.429960 -2.699671\n",
       "row2  -0.721126  0.987047\n",
       "row3  -1.602416 -0.232246\n",
       "row4   0.705934  2.387515\n",
       "row5  -0.256346 -0.555663\n",
       "row6  -0.776473  1.041223\n",
       "row7  -0.520079 -0.573226\n",
       "row8  -0.362978 -0.137292\n",
       "row9   2.071926 -1.207104\n",
       "row10 -0.251132 -1.987013"
      ]
     },
     "execution_count": 37,
     "metadata": {},
     "output_type": "execute_result"
    }
   ],
   "source": [
    "my_dataframe[[\"col1\",\"col3\"]] #za vise kolona stavljamo dve zagrade!"
   ]
  },
  {
   "cell_type": "code",
   "execution_count": 39,
   "id": "e659dd9e-2116-4543-bc0a-5e4bb9e57df4",
   "metadata": {},
   "outputs": [],
   "source": [
    "data = pd.read_csv(\"Automobile.csv\")"
   ]
  },
  {
   "cell_type": "code",
   "execution_count": 41,
   "id": "f1616330-d10b-4e91-8c6a-5d50af8ac92d",
   "metadata": {},
   "outputs": [
    {
     "data": {
      "text/html": [
       "<div>\n",
       "<style scoped>\n",
       "    .dataframe tbody tr th:only-of-type {\n",
       "        vertical-align: middle;\n",
       "    }\n",
       "\n",
       "    .dataframe tbody tr th {\n",
       "        vertical-align: top;\n",
       "    }\n",
       "\n",
       "    .dataframe thead th {\n",
       "        text-align: right;\n",
       "    }\n",
       "</style>\n",
       "<table border=\"1\" class=\"dataframe\">\n",
       "  <thead>\n",
       "    <tr style=\"text-align: right;\">\n",
       "      <th></th>\n",
       "      <th>symboling</th>\n",
       "      <th>normalized_losses</th>\n",
       "      <th>make</th>\n",
       "      <th>fuel_type</th>\n",
       "      <th>aspiration</th>\n",
       "      <th>number_of_doors</th>\n",
       "      <th>body_style</th>\n",
       "      <th>drive_wheels</th>\n",
       "      <th>engine_location</th>\n",
       "      <th>wheel_base</th>\n",
       "      <th>...</th>\n",
       "      <th>engine_size</th>\n",
       "      <th>fuel_system</th>\n",
       "      <th>bore</th>\n",
       "      <th>stroke</th>\n",
       "      <th>compression_ratio</th>\n",
       "      <th>horsepower</th>\n",
       "      <th>peak_rpm</th>\n",
       "      <th>city_mpg</th>\n",
       "      <th>highway_mpg</th>\n",
       "      <th>price</th>\n",
       "    </tr>\n",
       "  </thead>\n",
       "  <tbody>\n",
       "    <tr>\n",
       "      <th>197</th>\n",
       "      <td>-1</td>\n",
       "      <td>95</td>\n",
       "      <td>volvo</td>\n",
       "      <td>gas</td>\n",
       "      <td>turbo</td>\n",
       "      <td>four</td>\n",
       "      <td>sedan</td>\n",
       "      <td>rwd</td>\n",
       "      <td>front</td>\n",
       "      <td>109.1</td>\n",
       "      <td>...</td>\n",
       "      <td>141</td>\n",
       "      <td>mpfi</td>\n",
       "      <td>3.78</td>\n",
       "      <td>3.15</td>\n",
       "      <td>8.7</td>\n",
       "      <td>160</td>\n",
       "      <td>5300</td>\n",
       "      <td>19</td>\n",
       "      <td>25</td>\n",
       "      <td>19045</td>\n",
       "    </tr>\n",
       "    <tr>\n",
       "      <th>198</th>\n",
       "      <td>-1</td>\n",
       "      <td>95</td>\n",
       "      <td>volvo</td>\n",
       "      <td>gas</td>\n",
       "      <td>std</td>\n",
       "      <td>four</td>\n",
       "      <td>sedan</td>\n",
       "      <td>rwd</td>\n",
       "      <td>front</td>\n",
       "      <td>109.1</td>\n",
       "      <td>...</td>\n",
       "      <td>173</td>\n",
       "      <td>mpfi</td>\n",
       "      <td>3.58</td>\n",
       "      <td>2.87</td>\n",
       "      <td>8.8</td>\n",
       "      <td>134</td>\n",
       "      <td>5500</td>\n",
       "      <td>18</td>\n",
       "      <td>23</td>\n",
       "      <td>21485</td>\n",
       "    </tr>\n",
       "    <tr>\n",
       "      <th>199</th>\n",
       "      <td>-1</td>\n",
       "      <td>95</td>\n",
       "      <td>volvo</td>\n",
       "      <td>diesel</td>\n",
       "      <td>turbo</td>\n",
       "      <td>four</td>\n",
       "      <td>sedan</td>\n",
       "      <td>rwd</td>\n",
       "      <td>front</td>\n",
       "      <td>109.1</td>\n",
       "      <td>...</td>\n",
       "      <td>145</td>\n",
       "      <td>idi</td>\n",
       "      <td>3.01</td>\n",
       "      <td>3.40</td>\n",
       "      <td>23.0</td>\n",
       "      <td>106</td>\n",
       "      <td>4800</td>\n",
       "      <td>26</td>\n",
       "      <td>27</td>\n",
       "      <td>22470</td>\n",
       "    </tr>\n",
       "    <tr>\n",
       "      <th>200</th>\n",
       "      <td>-1</td>\n",
       "      <td>95</td>\n",
       "      <td>volvo</td>\n",
       "      <td>gas</td>\n",
       "      <td>turbo</td>\n",
       "      <td>four</td>\n",
       "      <td>sedan</td>\n",
       "      <td>rwd</td>\n",
       "      <td>front</td>\n",
       "      <td>109.1</td>\n",
       "      <td>...</td>\n",
       "      <td>141</td>\n",
       "      <td>mpfi</td>\n",
       "      <td>3.78</td>\n",
       "      <td>3.15</td>\n",
       "      <td>9.5</td>\n",
       "      <td>114</td>\n",
       "      <td>5400</td>\n",
       "      <td>19</td>\n",
       "      <td>25</td>\n",
       "      <td>22625</td>\n",
       "    </tr>\n",
       "  </tbody>\n",
       "</table>\n",
       "<p>4 rows × 26 columns</p>\n",
       "</div>"
      ],
      "text/plain": [
       "     symboling  normalized_losses   make fuel_type aspiration number_of_doors  \\\n",
       "197         -1                 95  volvo       gas      turbo            four   \n",
       "198         -1                 95  volvo       gas        std            four   \n",
       "199         -1                 95  volvo    diesel      turbo            four   \n",
       "200         -1                 95  volvo       gas      turbo            four   \n",
       "\n",
       "    body_style drive_wheels engine_location  wheel_base  ...  engine_size  \\\n",
       "197      sedan          rwd           front       109.1  ...          141   \n",
       "198      sedan          rwd           front       109.1  ...          173   \n",
       "199      sedan          rwd           front       109.1  ...          145   \n",
       "200      sedan          rwd           front       109.1  ...          141   \n",
       "\n",
       "     fuel_system  bore  stroke compression_ratio horsepower  peak_rpm  \\\n",
       "197         mpfi  3.78    3.15               8.7        160      5300   \n",
       "198         mpfi  3.58    2.87               8.8        134      5500   \n",
       "199          idi  3.01    3.40              23.0        106      4800   \n",
       "200         mpfi  3.78    3.15               9.5        114      5400   \n",
       "\n",
       "    city_mpg  highway_mpg  price  \n",
       "197       19           25  19045  \n",
       "198       18           23  21485  \n",
       "199       26           27  22470  \n",
       "200       19           25  22625  \n",
       "\n",
       "[4 rows x 26 columns]"
      ]
     },
     "execution_count": 41,
     "metadata": {},
     "output_type": "execute_result"
    }
   ],
   "source": [
    "data.head()\n",
    "data.tail(4)"
   ]
  },
  {
   "cell_type": "code",
   "execution_count": 44,
   "id": "57b87fae-db1a-493b-b04c-845c526d6804",
   "metadata": {},
   "outputs": [
    {
     "data": {
      "text/html": [
       "<div>\n",
       "<style scoped>\n",
       "    .dataframe tbody tr th:only-of-type {\n",
       "        vertical-align: middle;\n",
       "    }\n",
       "\n",
       "    .dataframe tbody tr th {\n",
       "        vertical-align: top;\n",
       "    }\n",
       "\n",
       "    .dataframe thead th {\n",
       "        text-align: right;\n",
       "    }\n",
       "</style>\n",
       "<table border=\"1\" class=\"dataframe\">\n",
       "  <thead>\n",
       "    <tr style=\"text-align: right;\">\n",
       "      <th></th>\n",
       "      <th>col1</th>\n",
       "      <th>col2</th>\n",
       "      <th>col3</th>\n",
       "      <th>col4</th>\n",
       "      <th>col5</th>\n",
       "      <th>col6</th>\n",
       "    </tr>\n",
       "  </thead>\n",
       "  <tbody>\n",
       "    <tr>\n",
       "      <th>row1</th>\n",
       "      <td>-1.429960</td>\n",
       "      <td>-0.422057</td>\n",
       "      <td>-2.699671</td>\n",
       "      <td>0.910851</td>\n",
       "      <td>0.651849</td>\n",
       "      <td>1.303698</td>\n",
       "    </tr>\n",
       "    <tr>\n",
       "      <th>row2</th>\n",
       "      <td>-0.721126</td>\n",
       "      <td>0.905256</td>\n",
       "      <td>0.987047</td>\n",
       "      <td>-1.002845</td>\n",
       "      <td>-0.076849</td>\n",
       "      <td>-0.153698</td>\n",
       "    </tr>\n",
       "    <tr>\n",
       "      <th>row3</th>\n",
       "      <td>-1.602416</td>\n",
       "      <td>-1.325939</td>\n",
       "      <td>-0.232246</td>\n",
       "      <td>-0.012634</td>\n",
       "      <td>1.338199</td>\n",
       "      <td>2.676398</td>\n",
       "    </tr>\n",
       "    <tr>\n",
       "      <th>row4</th>\n",
       "      <td>0.705934</td>\n",
       "      <td>0.636298</td>\n",
       "      <td>2.387515</td>\n",
       "      <td>-0.458989</td>\n",
       "      <td>1.573588</td>\n",
       "      <td>3.147176</td>\n",
       "    </tr>\n",
       "    <tr>\n",
       "      <th>row5</th>\n",
       "      <td>-0.256346</td>\n",
       "      <td>0.117014</td>\n",
       "      <td>-0.555663</td>\n",
       "      <td>2.337522</td>\n",
       "      <td>-0.616541</td>\n",
       "      <td>-1.233082</td>\n",
       "    </tr>\n",
       "    <tr>\n",
       "      <th>row6</th>\n",
       "      <td>-0.776473</td>\n",
       "      <td>0.867676</td>\n",
       "      <td>1.041223</td>\n",
       "      <td>0.137781</td>\n",
       "      <td>0.840287</td>\n",
       "      <td>1.680575</td>\n",
       "    </tr>\n",
       "    <tr>\n",
       "      <th>row7</th>\n",
       "      <td>-0.520079</td>\n",
       "      <td>-0.460014</td>\n",
       "      <td>-0.573226</td>\n",
       "      <td>1.766776</td>\n",
       "      <td>-1.081582</td>\n",
       "      <td>-2.163163</td>\n",
       "    </tr>\n",
       "    <tr>\n",
       "      <th>row8</th>\n",
       "      <td>-0.362978</td>\n",
       "      <td>0.279202</td>\n",
       "      <td>-0.137292</td>\n",
       "      <td>0.197732</td>\n",
       "      <td>0.026514</td>\n",
       "      <td>0.053027</td>\n",
       "    </tr>\n",
       "    <tr>\n",
       "      <th>row9</th>\n",
       "      <td>2.071926</td>\n",
       "      <td>1.336749</td>\n",
       "      <td>-1.207104</td>\n",
       "      <td>-1.622328</td>\n",
       "      <td>1.321120</td>\n",
       "      <td>2.642240</td>\n",
       "    </tr>\n",
       "    <tr>\n",
       "      <th>row10</th>\n",
       "      <td>-0.251132</td>\n",
       "      <td>0.447229</td>\n",
       "      <td>-1.987013</td>\n",
       "      <td>0.123522</td>\n",
       "      <td>0.947523</td>\n",
       "      <td>1.895047</td>\n",
       "    </tr>\n",
       "  </tbody>\n",
       "</table>\n",
       "</div>"
      ],
      "text/plain": [
       "           col1      col2      col3      col4      col5      col6\n",
       "row1  -1.429960 -0.422057 -2.699671  0.910851  0.651849  1.303698\n",
       "row2  -0.721126  0.905256  0.987047 -1.002845 -0.076849 -0.153698\n",
       "row3  -1.602416 -1.325939 -0.232246 -0.012634  1.338199  2.676398\n",
       "row4   0.705934  0.636298  2.387515 -0.458989  1.573588  3.147176\n",
       "row5  -0.256346  0.117014 -0.555663  2.337522 -0.616541 -1.233082\n",
       "row6  -0.776473  0.867676  1.041223  0.137781  0.840287  1.680575\n",
       "row7  -0.520079 -0.460014 -0.573226  1.766776 -1.081582 -2.163163\n",
       "row8  -0.362978  0.279202 -0.137292  0.197732  0.026514  0.053027\n",
       "row9   2.071926  1.336749 -1.207104 -1.622328  1.321120  2.642240\n",
       "row10 -0.251132  0.447229 -1.987013  0.123522  0.947523  1.895047"
      ]
     },
     "execution_count": 44,
     "metadata": {},
     "output_type": "execute_result"
    }
   ],
   "source": [
    "my_dataframe[\"col6\"]=my_dataframe[\"col5\"]*2 #pravi kolonu koja se zove \"col6\" sa datim pravilom\n",
    "my_dataframe"
   ]
  },
  {
   "cell_type": "code",
   "execution_count": 45,
   "id": "178501d8-16ce-4d5e-9187-ffe08ac9e2f0",
   "metadata": {},
   "outputs": [
    {
     "data": {
      "text/html": [
       "<div>\n",
       "<style scoped>\n",
       "    .dataframe tbody tr th:only-of-type {\n",
       "        vertical-align: middle;\n",
       "    }\n",
       "\n",
       "    .dataframe tbody tr th {\n",
       "        vertical-align: top;\n",
       "    }\n",
       "\n",
       "    .dataframe thead th {\n",
       "        text-align: right;\n",
       "    }\n",
       "</style>\n",
       "<table border=\"1\" class=\"dataframe\">\n",
       "  <thead>\n",
       "    <tr style=\"text-align: right;\">\n",
       "      <th></th>\n",
       "      <th>col1</th>\n",
       "      <th>col2</th>\n",
       "      <th>col3</th>\n",
       "      <th>col4</th>\n",
       "      <th>col5</th>\n",
       "      <th>col6</th>\n",
       "    </tr>\n",
       "  </thead>\n",
       "  <tbody>\n",
       "    <tr>\n",
       "      <th>row2</th>\n",
       "      <td>-0.721126</td>\n",
       "      <td>0.905256</td>\n",
       "      <td>0.987047</td>\n",
       "      <td>-1.002845</td>\n",
       "      <td>-0.076849</td>\n",
       "      <td>-0.153698</td>\n",
       "    </tr>\n",
       "    <tr>\n",
       "      <th>row3</th>\n",
       "      <td>-1.602416</td>\n",
       "      <td>-1.325939</td>\n",
       "      <td>-0.232246</td>\n",
       "      <td>-0.012634</td>\n",
       "      <td>1.338199</td>\n",
       "      <td>2.676398</td>\n",
       "    </tr>\n",
       "    <tr>\n",
       "      <th>row4</th>\n",
       "      <td>0.705934</td>\n",
       "      <td>0.636298</td>\n",
       "      <td>2.387515</td>\n",
       "      <td>-0.458989</td>\n",
       "      <td>1.573588</td>\n",
       "      <td>3.147176</td>\n",
       "    </tr>\n",
       "    <tr>\n",
       "      <th>row5</th>\n",
       "      <td>-0.256346</td>\n",
       "      <td>0.117014</td>\n",
       "      <td>-0.555663</td>\n",
       "      <td>2.337522</td>\n",
       "      <td>-0.616541</td>\n",
       "      <td>-1.233082</td>\n",
       "    </tr>\n",
       "    <tr>\n",
       "      <th>row6</th>\n",
       "      <td>-0.776473</td>\n",
       "      <td>0.867676</td>\n",
       "      <td>1.041223</td>\n",
       "      <td>0.137781</td>\n",
       "      <td>0.840287</td>\n",
       "      <td>1.680575</td>\n",
       "    </tr>\n",
       "    <tr>\n",
       "      <th>row7</th>\n",
       "      <td>-0.520079</td>\n",
       "      <td>-0.460014</td>\n",
       "      <td>-0.573226</td>\n",
       "      <td>1.766776</td>\n",
       "      <td>-1.081582</td>\n",
       "      <td>-2.163163</td>\n",
       "    </tr>\n",
       "    <tr>\n",
       "      <th>row8</th>\n",
       "      <td>-0.362978</td>\n",
       "      <td>0.279202</td>\n",
       "      <td>-0.137292</td>\n",
       "      <td>0.197732</td>\n",
       "      <td>0.026514</td>\n",
       "      <td>0.053027</td>\n",
       "    </tr>\n",
       "    <tr>\n",
       "      <th>row9</th>\n",
       "      <td>2.071926</td>\n",
       "      <td>1.336749</td>\n",
       "      <td>-1.207104</td>\n",
       "      <td>-1.622328</td>\n",
       "      <td>1.321120</td>\n",
       "      <td>2.642240</td>\n",
       "    </tr>\n",
       "    <tr>\n",
       "      <th>row10</th>\n",
       "      <td>-0.251132</td>\n",
       "      <td>0.447229</td>\n",
       "      <td>-1.987013</td>\n",
       "      <td>0.123522</td>\n",
       "      <td>0.947523</td>\n",
       "      <td>1.895047</td>\n",
       "    </tr>\n",
       "  </tbody>\n",
       "</table>\n",
       "</div>"
      ],
      "text/plain": [
       "           col1      col2      col3      col4      col5      col6\n",
       "row2  -0.721126  0.905256  0.987047 -1.002845 -0.076849 -0.153698\n",
       "row3  -1.602416 -1.325939 -0.232246 -0.012634  1.338199  2.676398\n",
       "row4   0.705934  0.636298  2.387515 -0.458989  1.573588  3.147176\n",
       "row5  -0.256346  0.117014 -0.555663  2.337522 -0.616541 -1.233082\n",
       "row6  -0.776473  0.867676  1.041223  0.137781  0.840287  1.680575\n",
       "row7  -0.520079 -0.460014 -0.573226  1.766776 -1.081582 -2.163163\n",
       "row8  -0.362978  0.279202 -0.137292  0.197732  0.026514  0.053027\n",
       "row9   2.071926  1.336749 -1.207104 -1.622328  1.321120  2.642240\n",
       "row10 -0.251132  0.447229 -1.987013  0.123522  0.947523  1.895047"
      ]
     },
     "execution_count": 45,
     "metadata": {},
     "output_type": "execute_result"
    }
   ],
   "source": [
    "my_dataframe.drop(\"row1\") #brise red row1"
   ]
  },
  {
   "cell_type": "code",
   "execution_count": 56,
   "id": "b9fc7077-54d3-4b16-a792-67aa71148cb1",
   "metadata": {},
   "outputs": [
    {
     "data": {
      "text/html": [
       "<div>\n",
       "<style scoped>\n",
       "    .dataframe tbody tr th:only-of-type {\n",
       "        vertical-align: middle;\n",
       "    }\n",
       "\n",
       "    .dataframe tbody tr th {\n",
       "        vertical-align: top;\n",
       "    }\n",
       "\n",
       "    .dataframe thead th {\n",
       "        text-align: right;\n",
       "    }\n",
       "</style>\n",
       "<table border=\"1\" class=\"dataframe\">\n",
       "  <thead>\n",
       "    <tr style=\"text-align: right;\">\n",
       "      <th></th>\n",
       "      <th>col2</th>\n",
       "      <th>col3</th>\n",
       "      <th>col4</th>\n",
       "      <th>col5</th>\n",
       "      <th>col6</th>\n",
       "    </tr>\n",
       "  </thead>\n",
       "  <tbody>\n",
       "    <tr>\n",
       "      <th>row2</th>\n",
       "      <td>0.905256</td>\n",
       "      <td>0.987047</td>\n",
       "      <td>-1.002845</td>\n",
       "      <td>-0.076849</td>\n",
       "      <td>-0.153698</td>\n",
       "    </tr>\n",
       "    <tr>\n",
       "      <th>row3</th>\n",
       "      <td>-1.325939</td>\n",
       "      <td>-0.232246</td>\n",
       "      <td>-0.012634</td>\n",
       "      <td>1.338199</td>\n",
       "      <td>2.676398</td>\n",
       "    </tr>\n",
       "    <tr>\n",
       "      <th>row4</th>\n",
       "      <td>0.636298</td>\n",
       "      <td>2.387515</td>\n",
       "      <td>-0.458989</td>\n",
       "      <td>1.573588</td>\n",
       "      <td>3.147176</td>\n",
       "    </tr>\n",
       "    <tr>\n",
       "      <th>row5</th>\n",
       "      <td>0.117014</td>\n",
       "      <td>-0.555663</td>\n",
       "      <td>2.337522</td>\n",
       "      <td>-0.616541</td>\n",
       "      <td>-1.233082</td>\n",
       "    </tr>\n",
       "    <tr>\n",
       "      <th>row6</th>\n",
       "      <td>0.867676</td>\n",
       "      <td>1.041223</td>\n",
       "      <td>0.137781</td>\n",
       "      <td>0.840287</td>\n",
       "      <td>1.680575</td>\n",
       "    </tr>\n",
       "    <tr>\n",
       "      <th>row7</th>\n",
       "      <td>-0.460014</td>\n",
       "      <td>-0.573226</td>\n",
       "      <td>1.766776</td>\n",
       "      <td>-1.081582</td>\n",
       "      <td>-2.163163</td>\n",
       "    </tr>\n",
       "    <tr>\n",
       "      <th>row8</th>\n",
       "      <td>0.279202</td>\n",
       "      <td>-0.137292</td>\n",
       "      <td>0.197732</td>\n",
       "      <td>0.026514</td>\n",
       "      <td>0.053027</td>\n",
       "    </tr>\n",
       "    <tr>\n",
       "      <th>row9</th>\n",
       "      <td>1.336749</td>\n",
       "      <td>-1.207104</td>\n",
       "      <td>-1.622328</td>\n",
       "      <td>1.321120</td>\n",
       "      <td>2.642240</td>\n",
       "    </tr>\n",
       "    <tr>\n",
       "      <th>row10</th>\n",
       "      <td>0.447229</td>\n",
       "      <td>-1.987013</td>\n",
       "      <td>0.123522</td>\n",
       "      <td>0.947523</td>\n",
       "      <td>1.895047</td>\n",
       "    </tr>\n",
       "  </tbody>\n",
       "</table>\n",
       "</div>"
      ],
      "text/plain": [
       "           col2      col3      col4      col5      col6\n",
       "row2   0.905256  0.987047 -1.002845 -0.076849 -0.153698\n",
       "row3  -1.325939 -0.232246 -0.012634  1.338199  2.676398\n",
       "row4   0.636298  2.387515 -0.458989  1.573588  3.147176\n",
       "row5   0.117014 -0.555663  2.337522 -0.616541 -1.233082\n",
       "row6   0.867676  1.041223  0.137781  0.840287  1.680575\n",
       "row7  -0.460014 -0.573226  1.766776 -1.081582 -2.163163\n",
       "row8   0.279202 -0.137292  0.197732  0.026514  0.053027\n",
       "row9   1.336749 -1.207104 -1.622328  1.321120  2.642240\n",
       "row10  0.447229 -1.987013  0.123522  0.947523  1.895047"
      ]
     },
     "execution_count": 56,
     "metadata": {},
     "output_type": "execute_result"
    }
   ],
   "source": [
    "my_dataframe.drop(\"col1\",axis=1) #brise colonu col1, za kolone axis mora da bude 1!"
   ]
  },
  {
   "cell_type": "markdown",
   "id": "07c86bb2-dd6b-41c7-8c86-b6e4d594f1a3",
   "metadata": {},
   "source": [
    "** ako hocemo da drop fja izbrise red za stalno, moramo dodati inplace=True, inace promene ne ostaju"
   ]
  },
  {
   "cell_type": "code",
   "execution_count": 64,
   "id": "a9296b5f-b191-4280-b231-198cf4fe96b9",
   "metadata": {},
   "outputs": [],
   "source": [
    "\n",
    "my_dataframe.drop(\"col2\",axis=1,inplace=True)"
   ]
  },
  {
   "cell_type": "code",
   "execution_count": 65,
   "id": "015f5b57-380c-4319-8d89-cb51e144d077",
   "metadata": {},
   "outputs": [
    {
     "data": {
      "text/html": [
       "<div>\n",
       "<style scoped>\n",
       "    .dataframe tbody tr th:only-of-type {\n",
       "        vertical-align: middle;\n",
       "    }\n",
       "\n",
       "    .dataframe tbody tr th {\n",
       "        vertical-align: top;\n",
       "    }\n",
       "\n",
       "    .dataframe thead th {\n",
       "        text-align: right;\n",
       "    }\n",
       "</style>\n",
       "<table border=\"1\" class=\"dataframe\">\n",
       "  <thead>\n",
       "    <tr style=\"text-align: right;\">\n",
       "      <th></th>\n",
       "      <th>col1</th>\n",
       "      <th>col3</th>\n",
       "      <th>col4</th>\n",
       "      <th>col5</th>\n",
       "      <th>col6</th>\n",
       "    </tr>\n",
       "  </thead>\n",
       "  <tbody>\n",
       "    <tr>\n",
       "      <th>row3</th>\n",
       "      <td>-1.602416</td>\n",
       "      <td>-0.232246</td>\n",
       "      <td>-0.012634</td>\n",
       "      <td>1.338199</td>\n",
       "      <td>2.676398</td>\n",
       "    </tr>\n",
       "    <tr>\n",
       "      <th>row4</th>\n",
       "      <td>0.705934</td>\n",
       "      <td>2.387515</td>\n",
       "      <td>-0.458989</td>\n",
       "      <td>1.573588</td>\n",
       "      <td>3.147176</td>\n",
       "    </tr>\n",
       "    <tr>\n",
       "      <th>row5</th>\n",
       "      <td>-0.256346</td>\n",
       "      <td>-0.555663</td>\n",
       "      <td>2.337522</td>\n",
       "      <td>-0.616541</td>\n",
       "      <td>-1.233082</td>\n",
       "    </tr>\n",
       "    <tr>\n",
       "      <th>row6</th>\n",
       "      <td>-0.776473</td>\n",
       "      <td>1.041223</td>\n",
       "      <td>0.137781</td>\n",
       "      <td>0.840287</td>\n",
       "      <td>1.680575</td>\n",
       "    </tr>\n",
       "    <tr>\n",
       "      <th>row7</th>\n",
       "      <td>-0.520079</td>\n",
       "      <td>-0.573226</td>\n",
       "      <td>1.766776</td>\n",
       "      <td>-1.081582</td>\n",
       "      <td>-2.163163</td>\n",
       "    </tr>\n",
       "    <tr>\n",
       "      <th>row8</th>\n",
       "      <td>-0.362978</td>\n",
       "      <td>-0.137292</td>\n",
       "      <td>0.197732</td>\n",
       "      <td>0.026514</td>\n",
       "      <td>0.053027</td>\n",
       "    </tr>\n",
       "    <tr>\n",
       "      <th>row9</th>\n",
       "      <td>2.071926</td>\n",
       "      <td>-1.207104</td>\n",
       "      <td>-1.622328</td>\n",
       "      <td>1.321120</td>\n",
       "      <td>2.642240</td>\n",
       "    </tr>\n",
       "    <tr>\n",
       "      <th>row10</th>\n",
       "      <td>-0.251132</td>\n",
       "      <td>-1.987013</td>\n",
       "      <td>0.123522</td>\n",
       "      <td>0.947523</td>\n",
       "      <td>1.895047</td>\n",
       "    </tr>\n",
       "  </tbody>\n",
       "</table>\n",
       "</div>"
      ],
      "text/plain": [
       "           col1      col3      col4      col5      col6\n",
       "row3  -1.602416 -0.232246 -0.012634  1.338199  2.676398\n",
       "row4   0.705934  2.387515 -0.458989  1.573588  3.147176\n",
       "row5  -0.256346 -0.555663  2.337522 -0.616541 -1.233082\n",
       "row6  -0.776473  1.041223  0.137781  0.840287  1.680575\n",
       "row7  -0.520079 -0.573226  1.766776 -1.081582 -2.163163\n",
       "row8  -0.362978 -0.137292  0.197732  0.026514  0.053027\n",
       "row9   2.071926 -1.207104 -1.622328  1.321120  2.642240\n",
       "row10 -0.251132 -1.987013  0.123522  0.947523  1.895047"
      ]
     },
     "execution_count": 65,
     "metadata": {},
     "output_type": "execute_result"
    }
   ],
   "source": [
    "my_dataframe"
   ]
  },
  {
   "cell_type": "code",
   "execution_count": null,
   "id": "eeacef20-4ea2-40ed-8b92-1414791ddc0a",
   "metadata": {},
   "outputs": [],
   "source": []
  }
 ],
 "metadata": {
  "kernelspec": {
   "display_name": "Python 3",
   "language": "python",
   "name": "python3"
  },
  "language_info": {
   "codemirror_mode": {
    "name": "ipython",
    "version": 3
   },
   "file_extension": ".py",
   "mimetype": "text/x-python",
   "name": "python",
   "nbconvert_exporter": "python",
   "pygments_lexer": "ipython3",
   "version": "3.8.8"
  }
 },
 "nbformat": 4,
 "nbformat_minor": 5
}
