{
 "cells": [
  {
   "cell_type": "code",
   "execution_count": 7,
   "id": "c9241e4d-964d-449a-8ee2-f48e73eac79f",
   "metadata": {},
   "outputs": [
    {
     "data": {
      "text/plain": [
       "2"
      ]
     },
     "execution_count": 7,
     "metadata": {},
     "output_type": "execute_result"
    }
   ],
   "source": [
    "\n",
    "def vovel(inputStr):\n",
    "    return sum(1 for let in inputStr if let in \"aeiouAEIOU\")\n",
    "\n",
    "vovel('hello')"
   ]
  },
  {
   "cell_type": "code",
   "execution_count": 31,
   "id": "036e3009-f25f-46bd-9088-20c4c855c2aa",
   "metadata": {},
   "outputs": [
    {
     "name": "stdout",
     "output_type": "stream",
     "text": [
      "[1, 2, 3, 42, 4, 5] 1 1\n"
     ]
    },
    {
     "data": {
      "text/plain": [
       "'42 1'"
      ]
     },
     "execution_count": 31,
     "metadata": {},
     "output_type": "execute_result"
    }
   ],
   "source": [
    "def high_and_low(numbers):\n",
    "    x = numbers.split(\" \")\n",
    "    f = [int(i) for i in x]\n",
    "    max = f[0]\n",
    "    min = f[0]\n",
    "    print (f,max,min)\n",
    "    for num in f:\n",
    "        if num > max: max = num\n",
    "        if num < min: min = num\n",
    "    return (str(max)+\" \"+str(min))\n",
    "\n",
    "high_and_low('1 2 3 42 4 5')"
   ]
  },
  {
   "cell_type": "code",
   "execution_count": 112,
   "id": "13977705-f3dd-42af-acdd-87b7b6c55f9f",
   "metadata": {},
   "outputs": [
    {
     "name": "stdout",
     "output_type": "stream",
     "text": [
      "se1 fv2 fd3 \n"
     ]
    }
   ],
   "source": [
    "import collections\n",
    "\n",
    "def order(sentence):\n",
    "    output = \"\"\n",
    "    a = list(sentence.split(\" \"))\n",
    "    a_dict = {}\n",
    "    out = []\n",
    "    #print (a)\n",
    "    for word in a:\n",
    "        #print (word)\n",
    "        for char in word:\n",
    "            if char.isdigit():\n",
    "                a_dict[char] = word\n",
    "            \n",
    "    ordered_d = collections.OrderedDict(sorted(a_dict.items()))\n",
    "    #print (ordered_d)\n",
    "    for i,m in ordered_d.items():\n",
    "        output = output + str(m) + \" \"\n",
    "    #print (\" \".join(ordered_d.values()))\n",
    "    print(str(output))\n",
    "        \n",
    "    \n",
    "\n",
    "\n",
    "order('se1 fd3 fv2')\n"
   ]
  },
  {
   "cell_type": "code",
   "execution_count": 171,
   "id": "2b72deaf-48ef-4365-b9a7-40603d4d4fb1",
   "metadata": {},
   "outputs": [
    {
     "name": "stdout",
     "output_type": "stream",
     "text": [
      "howquicklydaftjumpingzebrasvex\n"
     ]
    },
    {
     "data": {
      "text/plain": [
       "26"
      ]
     },
     "execution_count": 171,
     "metadata": {},
     "output_type": "execute_result"
    }
   ],
   "source": [
    "import string\n",
    "#dir(string)\n",
    "def is_pangram(s):\n",
    "    #print(s.lower())\n",
    "    a = s.lower()\n",
    "    new_string = \"\".join(char for char in a if char not in (\" \",\",\",\".\"))\n",
    "    print(new_string)\n",
    "    set1=set(new_string)\n",
    "    return len(set1)\n",
    "\n",
    "is_pangram(\"How quickly daft jumping zebras vex.\")"
   ]
  },
  {
   "cell_type": "code",
   "execution_count": 180,
   "id": "38f9516a-8a95-41ac-813b-215ffc070f34",
   "metadata": {},
   "outputs": [
    {
     "data": {
      "text/plain": [
       "'.....-.--.---..--...'"
      ]
     },
     "execution_count": 180,
     "metadata": {},
     "output_type": "execute_result"
    }
   ],
   "source": [
    "def decodeMorse(morse_code):\n",
    "    # ToDo: Accept dots, dashes and spaces, return human-readable message\n",
    "    #return morse_code.replace('.', MORSE_CODE['.']).replace('-', MORSE_CODE['-']).replace(' ', '')\n",
    "    a = morse_code.split(\" \")\n",
    "    s = \"\" \n",
    "    for item in a:\n",
    "        s += item\n",
    "    return s\n",
    "\n",
    "decodeMorse('.... . -.--   .--- ..- -.. .')\n",
    "        "
   ]
  },
  {
   "cell_type": "code",
   "execution_count": 187,
   "id": "21e25e0a-c505-4556-aed7-38b479c68d08",
   "metadata": {},
   "outputs": [
    {
     "name": "stdout",
     "output_type": "stream",
     "text": [
      "1\n",
      "1\n",
      "1\n",
      "1\n",
      "1\n",
      "1\n",
      "1\n",
      "1\n"
     ]
    },
    {
     "data": {
      "text/plain": [
       "'asd dasd'"
      ]
     },
     "execution_count": 187,
     "metadata": {},
     "output_type": "execute_result"
    }
   ],
   "source": [
    "x = 'asd dasd'\n",
    "for item in x.strip( ):\n",
    "    print(1)\n",
    "x"
   ]
  },
  {
   "cell_type": "code",
   "execution_count": 212,
   "id": "d4e94379-74f1-456e-85b0-ad80eabf27fd",
   "metadata": {},
   "outputs": [
    {
     "name": "stdout",
     "output_type": "stream",
     "text": [
      "crea\n",
      "acer\n"
     ]
    },
    {
     "ename": "AttributeError",
     "evalue": "'str' object has no attribute 'lowercase'",
     "output_type": "error",
     "traceback": [
      "\u001b[0;31m---------------------------------------------------------------------------\u001b[0m",
      "\u001b[0;31mAttributeError\u001b[0m                            Traceback (most recent call last)",
      "\u001b[0;32m/tmp/ipykernel_17434/3398210737.py\u001b[0m in \u001b[0;36m<module>\u001b[0;34m\u001b[0m\n\u001b[1;32m      7\u001b[0m     \u001b[0;32mreturn\u001b[0m \u001b[0mlen\u001b[0m\u001b[0;34m(\u001b[0m\u001b[0mnew\u001b[0m\u001b[0;34m)\u001b[0m \u001b[0;34m==\u001b[0m\u001b[0mlen\u001b[0m\u001b[0;34m(\u001b[0m\u001b[0mword\u001b[0m\u001b[0;34m.\u001b[0m\u001b[0mlowercase\u001b[0m\u001b[0;34m(\u001b[0m\u001b[0;34m)\u001b[0m\u001b[0;34m)\u001b[0m\u001b[0;34m\u001b[0m\u001b[0;34m\u001b[0m\u001b[0m\n\u001b[1;32m      8\u001b[0m \u001b[0;34m\u001b[0m\u001b[0m\n\u001b[0;32m----> 9\u001b[0;31m \u001b[0mis_isogram\u001b[0m\u001b[0;34m(\u001b[0m\u001b[0;34m'acer'\u001b[0m\u001b[0;34m)\u001b[0m\u001b[0;34m\u001b[0m\u001b[0;34m\u001b[0m\u001b[0m\n\u001b[0m",
      "\u001b[0;32m/tmp/ipykernel_17434/3398210737.py\u001b[0m in \u001b[0;36mis_isogram\u001b[0;34m(word)\u001b[0m\n\u001b[1;32m      5\u001b[0m     \u001b[0mprint\u001b[0m \u001b[0;34m(\u001b[0m\u001b[0mnew\u001b[0m\u001b[0;34m)\u001b[0m\u001b[0;34m\u001b[0m\u001b[0;34m\u001b[0m\u001b[0m\n\u001b[1;32m      6\u001b[0m     \u001b[0mprint\u001b[0m \u001b[0;34m(\u001b[0m\u001b[0mword\u001b[0m\u001b[0;34m)\u001b[0m\u001b[0;34m\u001b[0m\u001b[0;34m\u001b[0m\u001b[0m\n\u001b[0;32m----> 7\u001b[0;31m     \u001b[0;32mreturn\u001b[0m \u001b[0mlen\u001b[0m\u001b[0;34m(\u001b[0m\u001b[0mnew\u001b[0m\u001b[0;34m)\u001b[0m \u001b[0;34m==\u001b[0m\u001b[0mlen\u001b[0m\u001b[0;34m(\u001b[0m\u001b[0mword\u001b[0m\u001b[0;34m.\u001b[0m\u001b[0mlowercase\u001b[0m\u001b[0;34m(\u001b[0m\u001b[0;34m)\u001b[0m\u001b[0;34m)\u001b[0m\u001b[0;34m\u001b[0m\u001b[0;34m\u001b[0m\u001b[0m\n\u001b[0m\u001b[1;32m      8\u001b[0m \u001b[0;34m\u001b[0m\u001b[0m\n\u001b[1;32m      9\u001b[0m \u001b[0mis_isogram\u001b[0m\u001b[0;34m(\u001b[0m\u001b[0;34m'acer'\u001b[0m\u001b[0;34m)\u001b[0m\u001b[0;34m\u001b[0m\u001b[0;34m\u001b[0m\u001b[0m\n",
      "\u001b[0;31mAttributeError\u001b[0m: 'str' object has no attribute 'lowercase'"
     ]
    }
   ],
   "source": [
    "def is_isogram(word):\n",
    "    new = \"\"\n",
    "    for each in set(word):\n",
    "        new += each\n",
    "    print (new)\n",
    "    print (word)\n",
    "    return len(new) ==len(word.lowercase())\n",
    "\n",
    "is_isogram('acer')"
   ]
  },
  {
   "cell_type": "code",
   "execution_count": 218,
   "id": "ae5fcc17-a43c-4ca9-b648-0e1969c9842b",
   "metadata": {},
   "outputs": [
    {
     "name": "stdout",
     "output_type": "stream",
     "text": [
      "['a', 'c', 'a', 'd', 'a']\n"
     ]
    }
   ],
   "source": [
    "def uniques(sentence):\n",
    "    a = sentence[0]\n",
    "    q = []\n",
    "    q.append(a)\n",
    "    for item in sentence:\n",
    "        if item != a:\n",
    "            q.append(item)\n",
    "        a = item\n",
    "    print(q)\n",
    "uniques('aaaccaaaaaadaaa')"
   ]
  },
  {
   "cell_type": "code",
   "execution_count": 230,
   "id": "ddc68f2d-1677-4451-ace2-37faf16813c3",
   "metadata": {},
   "outputs": [
    {
     "data": {
      "text/plain": [
       "'adest'"
      ]
     },
     "execution_count": 230,
     "metadata": {},
     "output_type": "execute_result"
    }
   ],
   "source": [
    "def longest(a1, a2):\n",
    "    \n",
    "    return \"\".join(s for s in sorted(set(a1+a2)))\n",
    "    \n",
    "longest('settsada','asdasdasd')"
   ]
  },
  {
   "cell_type": "code",
   "execution_count": 240,
   "id": "3a6c8341-f494-4e68-9012-e020be53f78e",
   "metadata": {},
   "outputs": [
    {
     "data": {
      "text/plain": [
       "'asd 654321'"
      ]
     },
     "execution_count": 240,
     "metadata": {},
     "output_type": "execute_result"
    }
   ],
   "source": [
    "def spin_words(sentence):\n",
    "    x = sentence.split()\n",
    "    new = []\n",
    "    string = \"\"\n",
    "    for word in x:\n",
    "        if len(word) > 5:\n",
    "            new.append(word[::-1])\n",
    "        else:\n",
    "            new.append(word)\n",
    "    for item in new:\n",
    "        string = string + \" \" + item\n",
    "    return (string.strip())\n",
    "\n",
    "    \n",
    "\n",
    "spin_words('asd 123456')"
   ]
  },
  {
   "cell_type": "code",
   "execution_count": 258,
   "id": "2d994ee2-dd2a-41a3-9fd4-3cad8dce2c97",
   "metadata": {},
   "outputs": [
    {
     "name": "stdout",
     "output_type": "stream",
     "text": [
      "()()())(\n"
     ]
    },
    {
     "data": {
      "text/plain": [
       "False"
      ]
     },
     "execution_count": 258,
     "metadata": {},
     "output_type": "execute_result"
    }
   ],
   "source": [
    "def valid_parentheses(string):\n",
    "    a = \"\"\n",
    "    for x in string:\n",
    "        \n",
    "        if (x==')' or x == '('):\n",
    "            a+=x\n",
    "    print (a)\n",
    "    return (a.count(\")\")==a.count(\"(\") and a[-1] != \"(\")\n",
    "\n",
    "valid_parentheses(\"asd()()())asd(\")"
   ]
  },
  {
   "cell_type": "code",
   "execution_count": 299,
   "id": "b5e9b439-dd92-4ea5-b0c0-ace7d2f39abd",
   "metadata": {},
   "outputs": [
    {
     "data": {
      "text/plain": [
       "'1 19 4 19'"
      ]
     },
     "execution_count": 299,
     "metadata": {},
     "output_type": "execute_result"
    }
   ],
   "source": [
    "def alphabet_position(text):\n",
    "    output = \"\"\n",
    "    o1 = []\n",
    "    #code = enumerate(\"abcdefghijklmnopqrstuvwxyz\")\n",
    "    #code_dict=(dict(i,j) for i,j in code)\n",
    "    #print (code_dict)\n",
    "    for x in text.lower():\n",
    "        if x.isalpha():\n",
    "            output += x\n",
    "    #s = \"\".join(s for s in enumerate(x))\n",
    "    for s in output:\n",
    "        o1.append(ord(s)-ord(\"a\")+1)\n",
    "    \n",
    "        \n",
    "        \n",
    "    return (\" \".join(str(s) for s in o1))\n",
    "\n",
    "alphabet_position('Asd 23 32s')"
   ]
  },
  {
   "cell_type": "code",
   "execution_count": 14,
   "id": "2b4fbb6b-fc7b-4e3b-accd-936a10291e10",
   "metadata": {},
   "outputs": [
    {
     "name": "stdout",
     "output_type": "stream",
     "text": [
      "{1, 3}\n"
     ]
    },
    {
     "data": {
      "text/plain": [
       "3"
      ]
     },
     "execution_count": 14,
     "metadata": {},
     "output_type": "execute_result"
    }
   ],
   "source": [
    "def find_uniq(arr):\n",
    "    for each in set(arr):\n",
    "        if arr.count(each)==1:return each\n",
    "    \n",
    "    \n",
    "a = [1,3,1,1,1,1]\n",
    "find_uniq(a)"
   ]
  },
  {
   "cell_type": "code",
   "execution_count": 15,
   "id": "39aacce9-69c8-4558-96e7-2f3cd01ff94b",
   "metadata": {},
   "outputs": [
    {
     "name": "stdout",
     "output_type": "stream",
     "text": [
      "0x0\n"
     ]
    }
   ],
   "source": [
    "def rgb(r, g, b):\n",
    "    rhex = hex(r)\n",
    "    print (rhex)\n",
    "\n",
    "rgb(000,000,000)\n",
    "    "
   ]
  },
  {
   "cell_type": "code",
   "execution_count": 25,
   "id": "9fefc445-7851-4a36-9454-16a6f66a8c7f",
   "metadata": {},
   "outputs": [
    {
     "data": {
      "text/plain": [
       "'00:00:04'"
      ]
     },
     "execution_count": 25,
     "metadata": {},
     "output_type": "execute_result"
    }
   ],
   "source": [
    "def make_readable(seconds):\n",
    "    hh = seconds / 3600\n",
    "    mm = (seconds % 3600) / 60\n",
    "    sec = (seconds % 3600) % 60\n",
    "    return (\"{:02}:{:02}:{:02}\".format(int(hh),int(mm),int(sec)))\n",
    "make_readable(4)"
   ]
  },
  {
   "cell_type": "code",
   "execution_count": 117,
   "id": "6118c5e5-a557-4c6f-9add-33e1d1d0e33c",
   "metadata": {},
   "outputs": [],
   "source": [
    "def mix(s1, s2):\n",
    "    temp1 = \"\"\n",
    "    temp2 = \"\"\n",
    "    newset1 = set(\"\")\n",
    "    outputstring = \"\"\n",
    "    for each in s1:\n",
    "        if (each.islower() and each.isalpha()): temp1 += each\n",
    "    for each in s2:\n",
    "        if (each.islower() and each.isalpha()): temp2 += each\n",
    "    newset = set(temp2).union(set(temp1))\n",
    "    for each in newset:\n",
    "        if (temp1.count(each)>=2 or temp2.count(each)>=2): \n",
    "            newset1.add(each)\n",
    "    for each in newset1:\n",
    "        if temp1.count(each)>temp2.count(each):\n",
    "            outputstring+= \"1:\"+each*temp1.count(each)+\"/\"\n",
    "        elif temp1.count(each)<temp2.count(each):\n",
    "            outputstring+= \"2:\"+each*temp2.count(each)+\"/\"\n",
    "        else:\n",
    "            outputstring+= \"=:\"+each*temp2.count(each)+\"/\"\n",
    "            \n",
    "    print (outputstring)"
   ]
  },
  {
   "cell_type": "code",
   "execution_count": 118,
   "id": "30b4197b-fa44-4337-9eaa-9b26d0ae83f4",
   "metadata": {},
   "outputs": [
    {
     "name": "stdout",
     "output_type": "stream",
     "text": [
      "=:aa/1:ss/=:dd/\n"
     ]
    }
   ],
   "source": [
    "mix('asdAap324sd','adksad')"
   ]
  },
  {
   "cell_type": "code",
   "execution_count": 135,
   "id": "be8a93dc-fd0b-45d9-8147-9406f25cb26c",
   "metadata": {},
   "outputs": [],
   "source": [
    "\n",
    "def decode_pass(pass_list: list, bits: str):\n",
    "    bits_to_str: str = ''.join(chr(int(i, 2)) for i in str(bits).split())\n",
    "    return bits_to_str if bits_to_str in pass_list else False"
   ]
  },
  {
   "cell_type": "code",
   "execution_count": null,
   "id": "bc4ccb6b-4e30-47ba-bb8b-4f7a53d81a8c",
   "metadata": {},
   "outputs": [],
   "source": []
  },
  {
   "cell_type": "code",
   "execution_count": null,
   "id": "67e81347-01fd-417b-a759-f0afd5d21049",
   "metadata": {},
   "outputs": [],
   "source": []
  }
 ],
 "metadata": {
  "kernelspec": {
   "display_name": "Python 3 (ipykernel)",
   "language": "python",
   "name": "python3"
  },
  "language_info": {
   "codemirror_mode": {
    "name": "ipython",
    "version": 3
   },
   "file_extension": ".py",
   "mimetype": "text/x-python",
   "name": "python",
   "nbconvert_exporter": "python",
   "pygments_lexer": "ipython3",
   "version": "3.8.11"
  }
 },
 "nbformat": 4,
 "nbformat_minor": 5
}
