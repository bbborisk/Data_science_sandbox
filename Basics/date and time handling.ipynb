{
 "cells": [
  {
   "cell_type": "code",
   "execution_count": 21,
   "id": "2a599cdb-6590-434d-843b-ce223b9e6e99",
   "metadata": {},
   "outputs": [],
   "source": [
    "import numpy as np\n",
    "import datetime"
   ]
  },
  {
   "cell_type": "code",
   "execution_count": 2,
   "id": "e6eb93e8-1b0b-45bf-9de5-1e6dac523ec0",
   "metadata": {},
   "outputs": [],
   "source": [
    "date_object = datetime.date.today() #danasnji datum"
   ]
  },
  {
   "cell_type": "code",
   "execution_count": 3,
   "id": "3f15d774-5978-4886-9df6-e00c0ab628ca",
   "metadata": {},
   "outputs": [
    {
     "data": {
      "text/plain": [
       "datetime.date(2021, 9, 7)"
      ]
     },
     "execution_count": 3,
     "metadata": {},
     "output_type": "execute_result"
    }
   ],
   "source": [
    "date_object"
   ]
  },
  {
   "cell_type": "code",
   "execution_count": 11,
   "id": "16e9d8d1-f167-46aa-a894-6221dfa6a74b",
   "metadata": {},
   "outputs": [
    {
     "data": {
      "text/plain": [
       "datetime.datetime(2021, 9, 7, 12, 18, 8, 507921)"
      ]
     },
     "execution_count": 11,
     "metadata": {},
     "output_type": "execute_result"
    }
   ],
   "source": [
    "date_object = datetime.datetime.now() #daje sate minute sekunde i mikrosekunde, pored datuma\n",
    "date_object"
   ]
  },
  {
   "cell_type": "code",
   "execution_count": 13,
   "id": "d2e4406a-af1b-483e-accc-df1ec86c6ee6",
   "metadata": {},
   "outputs": [
    {
     "name": "stdout",
     "output_type": "stream",
     "text": [
      "2021\n",
      "9\n",
      "7\n"
     ]
    }
   ],
   "source": [
    "#ovo gore je objekat, koji ima razli;ite komponente\n",
    "\n",
    "print(date_object.year)\n",
    "print(date_object.month)\n",
    "print(date_object.day)"
   ]
  },
  {
   "cell_type": "code",
   "execution_count": 16,
   "id": "751be679-9c03-4da2-8af3-16a565378a5d",
   "metadata": {},
   "outputs": [
    {
     "name": "stdout",
     "output_type": "stream",
     "text": [
      "12 : 18\n"
     ]
    }
   ],
   "source": [
    "\n",
    "print(date_object.hour,\":\",date_object.minute)"
   ]
  },
  {
   "cell_type": "code",
   "execution_count": 18,
   "id": "0e6c9523-b3e1-468b-b4aa-b9598565d19d",
   "metadata": {},
   "outputs": [
    {
     "data": {
      "text/plain": [
       "datetime.timedelta(days=11323)"
      ]
     },
     "execution_count": 18,
     "metadata": {},
     "output_type": "execute_result"
    }
   ],
   "source": [
    "#time delta - daje razlike izmedju dva data objekta\n",
    "\n",
    "delta = datetime.datetime(2021,8,4) - datetime.datetime(1990,8,4)\n",
    "delta"
   ]
  },
  {
   "cell_type": "code",
   "execution_count": 24,
   "id": "ed70a299-fa8d-4d76-a4b0-244db70397c5",
   "metadata": {},
   "outputs": [
    {
     "data": {
      "text/plain": [
       "31.0"
      ]
     },
     "execution_count": 24,
     "metadata": {},
     "output_type": "execute_result"
    }
   ],
   "source": [
    "years = np.round(delta.days/360)\n",
    "years"
   ]
  },
  {
   "cell_type": "code",
   "execution_count": 32,
   "id": "8da85dc3-04c9-4a19-bc7e-f4a8654f8531",
   "metadata": {},
   "outputs": [
    {
     "name": "stdout",
     "output_type": "stream",
     "text": [
      "612015.613533\n"
     ]
    }
   ],
   "source": [
    "from datetime import timedelta\n",
    "t = timedelta(days = 7, hours = 2, seconds = 15, microseconds = 613533)\n",
    "print(t.total_seconds())\n"
   ]
  },
  {
   "cell_type": "code",
   "execution_count": 33,
   "id": "e8f58912-31f3-4a75-8a74-068a83c7c013",
   "metadata": {},
   "outputs": [
    {
     "data": {
      "text/plain": [
       "True"
      ]
     },
     "execution_count": 33,
     "metadata": {},
     "output_type": "execute_result"
    }
   ],
   "source": [
    "import calendar\n",
    "\n",
    "calendar.isleap(2020)"
   ]
  },
  {
   "cell_type": "code",
   "execution_count": 35,
   "id": "b1e059ff-bf33-4fda-ac49-8b7483c106ae",
   "metadata": {},
   "outputs": [
    {
     "name": "stdout",
     "output_type": "stream",
     "text": [
      "1\n",
      "2\n"
     ]
    }
   ],
   "source": [
    "#dani u nedelji\n",
    "\n",
    "date = datetime.datetime.now()\n",
    "print(date.weekday()) #ponedeljak je 0 - nedelja je 6\n",
    "print(date.isoweekday()) #ponedeljak je 1 \n",
    "\n"
   ]
  },
  {
   "cell_type": "code",
   "execution_count": 39,
   "id": "3c81515a-e709-485c-afb0-4df77bb122f4",
   "metadata": {},
   "outputs": [
    {
     "name": "stdout",
     "output_type": "stream",
     "text": [
      "(2021, 36, 2)\n",
      "week:  36\n"
     ]
    }
   ],
   "source": [
    "# nedelje\n",
    "# isocalendar() pravi 3 tupple sa godinom, nedeljom i danom\n",
    "\n",
    "date = datetime.datetime.now()\n",
    "print(date.isocalendar())\n",
    "print(\"week: \",date.isocalendar()[1])"
   ]
  },
  {
   "cell_type": "code",
   "execution_count": 41,
   "id": "9c631691-598e-4b83-a02b-029306297dcb",
   "metadata": {},
   "outputs": [
    {
     "data": {
      "text/plain": [
       "'                                  2021\\n\\n      January                   February                   March\\nMo Tu We Th Fr Sa Su      Mo Tu We Th Fr Sa Su      Mo Tu We Th Fr Sa Su\\n             1  2  3       1  2  3  4  5  6  7       1  2  3  4  5  6  7\\n 4  5  6  7  8  9 10       8  9 10 11 12 13 14       8  9 10 11 12 13 14\\n11 12 13 14 15 16 17      15 16 17 18 19 20 21      15 16 17 18 19 20 21\\n18 19 20 21 22 23 24      22 23 24 25 26 27 28      22 23 24 25 26 27 28\\n25 26 27 28 29 30 31                                29 30 31\\n\\n       April                      May                       June\\nMo Tu We Th Fr Sa Su      Mo Tu We Th Fr Sa Su      Mo Tu We Th Fr Sa Su\\n          1  2  3  4                      1  2          1  2  3  4  5  6\\n 5  6  7  8  9 10 11       3  4  5  6  7  8  9       7  8  9 10 11 12 13\\n12 13 14 15 16 17 18      10 11 12 13 14 15 16      14 15 16 17 18 19 20\\n19 20 21 22 23 24 25      17 18 19 20 21 22 23      21 22 23 24 25 26 27\\n26 27 28 29 30            24 25 26 27 28 29 30      28 29 30\\n                          31\\n\\n        July                     August                  September\\nMo Tu We Th Fr Sa Su      Mo Tu We Th Fr Sa Su      Mo Tu We Th Fr Sa Su\\n          1  2  3  4                         1             1  2  3  4  5\\n 5  6  7  8  9 10 11       2  3  4  5  6  7  8       6  7  8  9 10 11 12\\n12 13 14 15 16 17 18       9 10 11 12 13 14 15      13 14 15 16 17 18 19\\n19 20 21 22 23 24 25      16 17 18 19 20 21 22      20 21 22 23 24 25 26\\n26 27 28 29 30 31         23 24 25 26 27 28 29      27 28 29 30\\n                          30 31\\n\\n      October                   November                  December\\nMo Tu We Th Fr Sa Su      Mo Tu We Th Fr Sa Su      Mo Tu We Th Fr Sa Su\\n             1  2  3       1  2  3  4  5  6  7             1  2  3  4  5\\n 4  5  6  7  8  9 10       8  9 10 11 12 13 14       6  7  8  9 10 11 12\\n11 12 13 14 15 16 17      15 16 17 18 19 20 21      13 14 15 16 17 18 19\\n18 19 20 21 22 23 24      22 23 24 25 26 27 28      20 21 22 23 24 25 26\\n25 26 27 28 29 30 31      29 30                     27 28 29 30 31\\n'"
      ]
     },
     "execution_count": 41,
     "metadata": {},
     "output_type": "execute_result"
    }
   ],
   "source": [
    "calendar.calendar(2021)"
   ]
  },
  {
   "cell_type": "code",
   "execution_count": 42,
   "id": "7ff2d5f0-059a-4e70-8dcd-812f211f37af",
   "metadata": {},
   "outputs": [
    {
     "data": {
      "text/plain": [
       "'     March 2021\\nMo Tu We Th Fr Sa Su\\n 1  2  3  4  5  6  7\\n 8  9 10 11 12 13 14\\n15 16 17 18 19 20 21\\n22 23 24 25 26 27 28\\n29 30 31\\n'"
      ]
     },
     "execution_count": 42,
     "metadata": {},
     "output_type": "execute_result"
    }
   ],
   "source": [
    "calendar.month(2021,3)"
   ]
  },
  {
   "cell_type": "code",
   "execution_count": 43,
   "id": "deac81f0-f826-4f19-bb3e-782e7bc86476",
   "metadata": {},
   "outputs": [
    {
     "data": {
      "text/plain": [
       "'07/09/2021'"
      ]
     },
     "execution_count": 43,
     "metadata": {},
     "output_type": "execute_result"
    }
   ],
   "source": [
    "#formatiranje datuma\n",
    "\n",
    "datetime.datetime.now().__format__('%d/%m/%Y')"
   ]
  },
  {
   "cell_type": "code",
   "execution_count": null,
   "id": "247b40ef-680c-457f-96f9-d3b801837ed5",
   "metadata": {},
   "outputs": [],
   "source": [
    " "
   ]
  }
 ],
 "metadata": {
  "kernelspec": {
   "display_name": "Python 3",
   "language": "python",
   "name": "python3"
  },
  "language_info": {
   "codemirror_mode": {
    "name": "ipython",
    "version": 3
   },
   "file_extension": ".py",
   "mimetype": "text/x-python",
   "name": "python",
   "nbconvert_exporter": "python",
   "pygments_lexer": "ipython3",
   "version": "3.8.8"
  }
 },
 "nbformat": 4,
 "nbformat_minor": 5
}
