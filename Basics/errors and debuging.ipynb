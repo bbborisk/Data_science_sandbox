{
 "cells": [
  {
   "cell_type": "code",
   "execution_count": 1,
   "id": "e22e7cd5-4a70-4c9c-ac1c-12353414eaba",
   "metadata": {},
   "outputs": [],
   "source": [
    "#tri vrste gresaka u pajtonu\n",
    "#syntax error\n",
    "#logic error\n",
    "#runtime error"
   ]
  },
  {
   "cell_type": "code",
   "execution_count": 3,
   "id": "a0661fbb-4667-47fe-b19d-0f9a3b303551",
   "metadata": {},
   "outputs": [
    {
     "ename": "SyntaxError",
     "evalue": "invalid syntax (<ipython-input-3-f1bcf126c091>, line 5)",
     "output_type": "error",
     "traceback": [
      "\u001b[0;36m  File \u001b[0;32m\"<ipython-input-3-f1bcf126c091>\"\u001b[0;36m, line \u001b[0;32m5\u001b[0m\n\u001b[0;31m    c = a +\u001b[0m\n\u001b[0m            ^\u001b[0m\n\u001b[0;31mSyntaxError\u001b[0m\u001b[0;31m:\u001b[0m invalid syntax\n"
     ]
    }
   ],
   "source": [
    "#syntax greska je greska u kucanju koda\n",
    "\n",
    "a=10\n",
    "b=20\n",
    "c = a + \n",
    "print(c)"
   ]
  },
  {
   "cell_type": "code",
   "execution_count": 6,
   "id": "e00dcfea-d062-4931-8d2e-c842de10fe6e",
   "metadata": {},
   "outputs": [
    {
     "ename": "NameError",
     "evalue": "name 't' is not defined",
     "output_type": "error",
     "traceback": [
      "\u001b[0;31m---------------------------------------------------------------------------\u001b[0m",
      "\u001b[0;31mNameError\u001b[0m                                 Traceback (most recent call last)",
      "\u001b[0;32m<ipython-input-6-570fa2d300dd>\u001b[0m in \u001b[0;36m<module>\u001b[0;34m\u001b[0m\n\u001b[1;32m      1\u001b[0m \u001b[0;31m#runtime errror kod je dobro napisan sintaksno, ali pri pokretanju ne radi. npr nedefinisana promenjiva, deljenje sa nulom, konvertovanje iz jedne vrednosti u drugu\u001b[0m\u001b[0;34m\u001b[0m\u001b[0;34m\u001b[0m\u001b[0;34m\u001b[0m\u001b[0m\n\u001b[1;32m      2\u001b[0m \u001b[0;34m\u001b[0m\u001b[0m\n\u001b[0;32m----> 3\u001b[0;31m \u001b[0mprint\u001b[0m\u001b[0;34m(\u001b[0m\u001b[0mt\u001b[0m\u001b[0;34m)\u001b[0m\u001b[0;34m\u001b[0m\u001b[0;34m\u001b[0m\u001b[0m\n\u001b[0m",
      "\u001b[0;31mNameError\u001b[0m: name 't' is not defined"
     ]
    }
   ],
   "source": [
    "#runtime errror kod je dobro napisan sintaksno, ali pri pokretanju ne radi. npr nedefinisana promenjiva, deljenje sa nulom, konvertovanje iz jedne vrednosti u drugu\n",
    "\n",
    "print(t)"
   ]
  },
  {
   "cell_type": "code",
   "execution_count": null,
   "id": "bfb4a877-6990-43ff-8677-d8c3bba0d3a8",
   "metadata": {},
   "outputs": [],
   "source": [
    "#logical errors ne daju poruku kao grsku, program radi, ali ne radi sta treba\n"
   ]
  }
 ],
 "metadata": {
  "kernelspec": {
   "display_name": "Python 3",
   "language": "python",
   "name": "python3"
  },
  "language_info": {
   "codemirror_mode": {
    "name": "ipython",
    "version": 3
   },
   "file_extension": ".py",
   "mimetype": "text/x-python",
   "name": "python",
   "nbconvert_exporter": "python",
   "pygments_lexer": "ipython3",
   "version": "3.8.8"
  }
 },
 "nbformat": 4,
 "nbformat_minor": 5
}
