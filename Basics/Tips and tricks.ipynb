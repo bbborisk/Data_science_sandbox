{
 "cells": [
  {
   "cell_type": "code",
   "execution_count": 2,
   "id": "68f1fca3-887b-4f20-a601-286036101bde",
   "metadata": {},
   "outputs": [
    {
     "name": "stdin",
     "output_type": "stream",
     "text": [
      "add two numbers separated by comma 2,32\n"
     ]
    },
    {
     "name": "stdout",
     "output_type": "stream",
     "text": [
      "2 32\n"
     ]
    }
   ],
   "source": [
    "#multiple imputs from user\n",
    "\n",
    "number1, number2 = input(\"add two numbers separated by comma\").split(\",\")\n",
    "print(number1, number2)"
   ]
  },
  {
   "cell_type": "code",
   "execution_count": 4,
   "id": "a5274aa6-76e7-4c5d-a582-5520cf606884",
   "metadata": {},
   "outputs": [
    {
     "name": "stdout",
     "output_type": "stream",
     "text": [
      "no go\n",
      "no go\n"
     ]
    }
   ],
   "source": [
    "#multiple condition statements\n",
    "\n",
    "#umesto\n",
    "\n",
    "a=100\n",
    "b=300\n",
    "c=123\n",
    "\n",
    "if a<b and b<c and c>10:\n",
    "    print(\"all good\")\n",
    "else:\n",
    "    print(\"no go\")\n",
    "\n",
    "#mogu uslovi da se spakuju u listu\n",
    "\n",
    "conditions = [a<b, b<c, c>10]\n",
    "\n",
    "if all(conditions):\n",
    "    print(\"all good\")\n",
    "else:\n",
    "    print(\"no go\")"
   ]
  },
  {
   "cell_type": "code",
   "execution_count": 1,
   "id": "64da77b2-abcb-4d53-b984-9c7e79f7e131",
   "metadata": {},
   "outputs": [
    {
     "name": "stdout",
     "output_type": "stream",
     "text": [
      "20 10\n"
     ]
    }
   ],
   "source": [
    "#swapping items\n",
    "a=10\n",
    "b=20\n",
    "\n",
    "a,b = b,a\n",
    "\n",
    "print(a,b)\n",
    "\n"
   ]
  },
  {
   "cell_type": "code",
   "execution_count": 7,
   "id": "f090bafc-1d40-4989-ae18-ece2f4925ef9",
   "metadata": {},
   "outputs": [
    {
     "name": "stdout",
     "output_type": "stream",
     "text": [
      "Before:  [1, 2, 3, 3, 4, 5, 6, 7, 8, 8, 8, 9, 9, 10]\n",
      "After  [1, 2, 3, 4, 5, 6, 7, 8, 9, 10]\n"
     ]
    }
   ],
   "source": [
    "#selecting unique items\n",
    "a = [1,2,3,3,4,5,6,7,8,8,8,9,9,10]\n",
    "print(\"Before: \", a)\n",
    "new_a = list(set(a))\n",
    "print(\"After \",new_a)"
   ]
  },
  {
   "cell_type": "code",
   "execution_count": 8,
   "id": "40f72158-ae71-4870-9df3-e6aebc901365",
   "metadata": {},
   "outputs": [
    {
     "name": "stdout",
     "output_type": "stream",
     "text": [
      "Ana\n"
     ]
    }
   ],
   "source": [
    "#repeated items most times\n",
    "names = [\"Ana\", \"Boris\",\"Oli\",\"Kika\", \"Lula\", \"Ana\"]\n",
    "new_name = max(set(names), key = names.count)\n",
    "print(new_name)"
   ]
  },
  {
   "cell_type": "code",
   "execution_count": 11,
   "id": "0f6526f2-cc02-4a55-9e3f-360fb2fc649b",
   "metadata": {},
   "outputs": [
    {
     "name": "stdout",
     "output_type": "stream",
     "text": [
      "14,655,685,997\n"
     ]
    }
   ],
   "source": [
    "#working with large numbers that are hard to read\n",
    "a = 12312432543\n",
    "b = 2343253454\n",
    "print(f'{(a+b):,}')"
   ]
  },
  {
   "cell_type": "code",
   "execution_count": 21,
   "id": "49da10d2-db1f-48af-92a0-bff20e05a6c4",
   "metadata": {},
   "outputs": [
    {
     "name": "stdout",
     "output_type": "stream",
     "text": [
      "1   Ana\n",
      "2   Boris\n",
      "3   Oli\n",
      "4   Kika\n",
      "5   Lula\n",
      "6   Ana\n",
      "ukupno:  6\n"
     ]
    }
   ],
   "source": [
    "#keep count of items\n",
    "names = [\"Ana\", \"Boris\",\"Oli\",\"Kika\", \"Lula\", \"Ana\"]\n",
    "index = 0\n",
    "for name in names:\n",
    "    index += 1\n",
    "    print(index,\" \",name)\n",
    "print(\"ukupno: \",index)"
   ]
  },
  {
   "cell_type": "code",
   "execution_count": 24,
   "id": "0103a9bb-b666-4340-a96c-ae0b064012cc",
   "metadata": {},
   "outputs": [
    {
     "name": "stdout",
     "output_type": "stream",
     "text": [
      "1 Ana\n",
      "2 Boris\n",
      "3 Oli\n",
      "4 Kika\n",
      "5 Lula\n",
      "6 Ana\n"
     ]
    }
   ],
   "source": [
    "#isto ovo mo\\e i preko fje enumerate\n",
    "\n",
    "names = [\"Ana\", \"Boris\",\"Oli\",\"Kika\", \"Lula\", \"Ana\"]\n",
    "\n",
    "for index, name in enumerate(names, start = 1):\n",
    "    print(index,name)\n",
    "\n"
   ]
  },
  {
   "cell_type": "code",
   "execution_count": 27,
   "id": "358e1658-e625-4e3d-bcc0-5c922bc487e0",
   "metadata": {},
   "outputs": [
    {
     "name": "stdout",
     "output_type": "stream",
     "text": [
      "Ana is a Psychologist\n",
      "Boris is a Data scientist\n",
      "Oli is a Kindergarden\n"
     ]
    }
   ],
   "source": [
    " #loop through two or more list at a timea\n",
    "\n",
    "names = [\"Ana\", \"Boris\", \"Oli\"]\n",
    "jobs = [\"Psychologist\", \"Data scientist\", \"Kindergarden\"]\n",
    "\n",
    "for index,name in enumerate(names):\n",
    "    job = jobs[index]\n",
    "    print(f'{name} is a {job}')"
   ]
  },
  {
   "cell_type": "code",
   "execution_count": 29,
   "id": "d9c847c6-1cff-43fc-830e-0e4eace0120f",
   "metadata": {},
   "outputs": [
    {
     "name": "stdout",
     "output_type": "stream",
     "text": [
      "Ana Psychologist\n",
      "Boris Data scientist\n",
      "Oli Kindergarden\n"
     ]
    }
   ],
   "source": [
    "#same as above, using zip\n",
    "\n",
    "names = [\"Ana\", \"Boris\", \"Oli\"]\n",
    "jobs = [\"Psychologist\", \"Data scientist\", \"Kindergarden\"]\n",
    "\n",
    "for name, job in zip(names,jobs):\n",
    "    print(name,job)\n",
    "\n",
    "\n",
    "\n"
   ]
  },
  {
   "cell_type": "code",
   "execution_count": 1,
   "id": "90e4e3d7-1e6d-4257-a6d2-d699f0bd70b9",
   "metadata": {},
   "outputs": [],
   "source": [
    "#unpaking values\n",
    "\n",
    "a,b = (10,20)"
   ]
  },
  {
   "cell_type": "code",
   "execution_count": 4,
   "id": "cebd919f-63ad-4eb5-adcf-9b1be624e475",
   "metadata": {},
   "outputs": [
    {
     "name": "stdout",
     "output_type": "stream",
     "text": [
      "Collecting jupyter-tabnine\n",
      "  Downloading jupyter_tabnine-1.2.3-py2.py3-none-any.whl (21 kB)\n",
      "Requirement already satisfied: nbconvert in /home/bbborisk/anaconda3/lib/python3.8/site-packages (from jupyter-tabnine) (6.1.0)\n",
      "Requirement already satisfied: ipython in /home/bbborisk/anaconda3/lib/python3.8/site-packages (from jupyter-tabnine) (7.26.0)\n",
      "Requirement already satisfied: jupyter-core in /home/bbborisk/anaconda3/lib/python3.8/site-packages (from jupyter-tabnine) (4.7.1)\n",
      "Requirement already satisfied: notebook>=4.2 in /home/bbborisk/anaconda3/lib/python3.8/site-packages (from jupyter-tabnine) (6.4.3)\n",
      "Requirement already satisfied: argon2-cffi in /home/bbborisk/anaconda3/lib/python3.8/site-packages (from notebook>=4.2->jupyter-tabnine) (20.1.0)\n",
      "Requirement already satisfied: nbformat in /home/bbborisk/anaconda3/lib/python3.8/site-packages (from notebook>=4.2->jupyter-tabnine) (5.1.3)\n",
      "Requirement already satisfied: ipykernel in /home/bbborisk/anaconda3/lib/python3.8/site-packages (from notebook>=4.2->jupyter-tabnine) (6.2.0)\n",
      "Requirement already satisfied: traitlets>=4.2.1 in /home/bbborisk/anaconda3/lib/python3.8/site-packages (from notebook>=4.2->jupyter-tabnine) (5.0.5)\n",
      "Requirement already satisfied: jupyter-client>=5.3.4 in /home/bbborisk/anaconda3/lib/python3.8/site-packages (from notebook>=4.2->jupyter-tabnine) (7.0.1)\n",
      "Requirement already satisfied: terminado>=0.8.3 in /home/bbborisk/anaconda3/lib/python3.8/site-packages (from notebook>=4.2->jupyter-tabnine) (0.9.4)\n",
      "Requirement already satisfied: tornado>=6.1 in /home/bbborisk/anaconda3/lib/python3.8/site-packages (from notebook>=4.2->jupyter-tabnine) (6.1)\n",
      "Requirement already satisfied: pyzmq>=17 in /home/bbborisk/anaconda3/lib/python3.8/site-packages (from notebook>=4.2->jupyter-tabnine) (22.2.1)\n",
      "Requirement already satisfied: Send2Trash>=1.5.0 in /home/bbborisk/anaconda3/lib/python3.8/site-packages (from notebook>=4.2->jupyter-tabnine) (1.5.0)\n",
      "Requirement already satisfied: ipython-genutils in /home/bbborisk/anaconda3/lib/python3.8/site-packages (from notebook>=4.2->jupyter-tabnine) (0.2.0)\n",
      "Requirement already satisfied: prometheus-client in /home/bbborisk/anaconda3/lib/python3.8/site-packages (from notebook>=4.2->jupyter-tabnine) (0.11.0)\n",
      "Requirement already satisfied: jinja2 in /home/bbborisk/anaconda3/lib/python3.8/site-packages (from notebook>=4.2->jupyter-tabnine) (2.11.3)\n",
      "Requirement already satisfied: nest-asyncio>=1.5 in /home/bbborisk/anaconda3/lib/python3.8/site-packages (from jupyter-client>=5.3.4->notebook>=4.2->jupyter-tabnine) (1.5.1)\n",
      "Requirement already satisfied: entrypoints in /home/bbborisk/anaconda3/lib/python3.8/site-packages (from jupyter-client>=5.3.4->notebook>=4.2->jupyter-tabnine) (0.3)\n",
      "Requirement already satisfied: python-dateutil>=2.1 in /home/bbborisk/anaconda3/lib/python3.8/site-packages (from jupyter-client>=5.3.4->notebook>=4.2->jupyter-tabnine) (2.8.2)\n",
      "Requirement already satisfied: six>=1.5 in /home/bbborisk/anaconda3/lib/python3.8/site-packages (from python-dateutil>=2.1->jupyter-client>=5.3.4->notebook>=4.2->jupyter-tabnine) (1.16.0)\n",
      "Requirement already satisfied: ptyprocess in /home/bbborisk/anaconda3/lib/python3.8/site-packages (from terminado>=0.8.3->notebook>=4.2->jupyter-tabnine) (0.7.0)\n",
      "Requirement already satisfied: cffi>=1.0.0 in /home/bbborisk/anaconda3/lib/python3.8/site-packages (from argon2-cffi->notebook>=4.2->jupyter-tabnine) (1.14.6)\n",
      "Requirement already satisfied: pycparser in /home/bbborisk/anaconda3/lib/python3.8/site-packages (from cffi>=1.0.0->argon2-cffi->notebook>=4.2->jupyter-tabnine) (2.20)\n",
      "Requirement already satisfied: matplotlib-inline<0.2.0,>=0.1.0 in /home/bbborisk/anaconda3/lib/python3.8/site-packages (from ipykernel->notebook>=4.2->jupyter-tabnine) (0.1.2)\n",
      "Requirement already satisfied: debugpy<2.0,>=1.0.0 in /home/bbborisk/anaconda3/lib/python3.8/site-packages (from ipykernel->notebook>=4.2->jupyter-tabnine) (1.4.1)\n",
      "Requirement already satisfied: jedi>=0.16 in /home/bbborisk/anaconda3/lib/python3.8/site-packages (from ipython->jupyter-tabnine) (0.17.2)\n",
      "Requirement already satisfied: decorator in /home/bbborisk/anaconda3/lib/python3.8/site-packages (from ipython->jupyter-tabnine) (5.0.9)\n",
      "Requirement already satisfied: backcall in /home/bbborisk/anaconda3/lib/python3.8/site-packages (from ipython->jupyter-tabnine) (0.2.0)\n",
      "Requirement already satisfied: pygments in /home/bbborisk/anaconda3/lib/python3.8/site-packages (from ipython->jupyter-tabnine) (2.10.0)\n",
      "Requirement already satisfied: prompt-toolkit!=3.0.0,!=3.0.1,<3.1.0,>=2.0.0 in /home/bbborisk/anaconda3/lib/python3.8/site-packages (from ipython->jupyter-tabnine) (3.0.17)\n",
      "Requirement already satisfied: pickleshare in /home/bbborisk/anaconda3/lib/python3.8/site-packages (from ipython->jupyter-tabnine) (0.7.5)\n",
      "Requirement already satisfied: setuptools>=18.5 in /home/bbborisk/anaconda3/lib/python3.8/site-packages (from ipython->jupyter-tabnine) (52.0.0.post20210125)\n",
      "Requirement already satisfied: pexpect>4.3 in /home/bbborisk/anaconda3/lib/python3.8/site-packages (from ipython->jupyter-tabnine) (4.8.0)\n",
      "Requirement already satisfied: parso<0.8.0,>=0.7.0 in /home/bbborisk/anaconda3/lib/python3.8/site-packages (from jedi>=0.16->ipython->jupyter-tabnine) (0.7.0)\n",
      "Requirement already satisfied: wcwidth in /home/bbborisk/anaconda3/lib/python3.8/site-packages (from prompt-toolkit!=3.0.0,!=3.0.1,<3.1.0,>=2.0.0->ipython->jupyter-tabnine) (0.2.5)\n",
      "Requirement already satisfied: MarkupSafe>=0.23 in /home/bbborisk/anaconda3/lib/python3.8/site-packages (from jinja2->notebook>=4.2->jupyter-tabnine) (2.0.1)\n",
      "Requirement already satisfied: pandocfilters>=1.4.1 in /home/bbborisk/anaconda3/lib/python3.8/site-packages (from nbconvert->jupyter-tabnine) (1.4.3)\n",
      "Requirement already satisfied: defusedxml in /home/bbborisk/anaconda3/lib/python3.8/site-packages (from nbconvert->jupyter-tabnine) (0.7.1)\n",
      "Requirement already satisfied: mistune<2,>=0.8.1 in /home/bbborisk/anaconda3/lib/python3.8/site-packages (from nbconvert->jupyter-tabnine) (0.8.4)\n",
      "Requirement already satisfied: bleach in /home/bbborisk/anaconda3/lib/python3.8/site-packages (from nbconvert->jupyter-tabnine) (4.0.0)\n",
      "Requirement already satisfied: jupyterlab-pygments in /home/bbborisk/anaconda3/lib/python3.8/site-packages (from nbconvert->jupyter-tabnine) (0.1.2)\n",
      "Requirement already satisfied: nbclient<0.6.0,>=0.5.0 in /home/bbborisk/anaconda3/lib/python3.8/site-packages (from nbconvert->jupyter-tabnine) (0.5.3)\n",
      "Requirement already satisfied: testpath in /home/bbborisk/anaconda3/lib/python3.8/site-packages (from nbconvert->jupyter-tabnine) (0.5.0)\n",
      "Requirement already satisfied: async-generator in /home/bbborisk/anaconda3/lib/python3.8/site-packages (from nbclient<0.6.0,>=0.5.0->nbconvert->jupyter-tabnine) (1.10)\n",
      "Requirement already satisfied: jsonschema!=2.5.0,>=2.4 in /home/bbborisk/anaconda3/lib/python3.8/site-packages (from nbformat->notebook>=4.2->jupyter-tabnine) (3.2.0)\n",
      "Requirement already satisfied: pyrsistent>=0.14.0 in /home/bbborisk/anaconda3/lib/python3.8/site-packages (from jsonschema!=2.5.0,>=2.4->nbformat->notebook>=4.2->jupyter-tabnine) (0.17.3)\n",
      "Requirement already satisfied: attrs>=17.4.0 in /home/bbborisk/anaconda3/lib/python3.8/site-packages (from jsonschema!=2.5.0,>=2.4->nbformat->notebook>=4.2->jupyter-tabnine) (21.2.0)\n",
      "Requirement already satisfied: webencodings in /home/bbborisk/anaconda3/lib/python3.8/site-packages (from bleach->nbconvert->jupyter-tabnine) (0.5.1)\n",
      "Requirement already satisfied: packaging in /home/bbborisk/anaconda3/lib/python3.8/site-packages (from bleach->nbconvert->jupyter-tabnine) (21.0)\n",
      "Requirement already satisfied: pyparsing>=2.0.2 in /home/bbborisk/anaconda3/lib/python3.8/site-packages (from packaging->bleach->nbconvert->jupyter-tabnine) (2.4.7)\n",
      "Installing collected packages: jupyter-tabnine\n",
      "Successfully installed jupyter-tabnine-1.2.3\n"
     ]
    }
   ],
   "source": [
    "!pip3 install jupyter-tabnine "
   ]
  },
  {
   "cell_type": "code",
   "execution_count": 5,
   "id": "1398b41b-fe57-45c4-b20c-46c9b90b5211",
   "metadata": {},
   "outputs": [
    {
     "name": "stdout",
     "output_type": "stream",
     "text": [
      "Installing /home/bbborisk/anaconda3/lib/python3.8/site-packages/jupyter_tabnine/static -> jupyter_tabnine\n",
      "Making directory: /home/bbborisk/.local/share/jupyter/nbextensions/jupyter_tabnine/\n",
      "Copying: /home/bbborisk/anaconda3/lib/python3.8/site-packages/jupyter_tabnine/static/main.js -> /home/bbborisk/.local/share/jupyter/nbextensions/jupyter_tabnine/main.js\n",
      "Copying: /home/bbborisk/anaconda3/lib/python3.8/site-packages/jupyter_tabnine/static/tabnine.yaml -> /home/bbborisk/.local/share/jupyter/nbextensions/jupyter_tabnine/tabnine.yaml\n",
      "Copying: /home/bbborisk/anaconda3/lib/python3.8/site-packages/jupyter_tabnine/static/README.md -> /home/bbborisk/.local/share/jupyter/nbextensions/jupyter_tabnine/README.md\n",
      "Copying: /home/bbborisk/anaconda3/lib/python3.8/site-packages/jupyter_tabnine/static/main.css -> /home/bbborisk/.local/share/jupyter/nbextensions/jupyter_tabnine/main.css\n",
      "- Validating: \u001b[32mOK\u001b[0m\n",
      "\n",
      "    To initialize this nbextension in the browser every time the notebook (or other app) loads:\n",
      "    \n",
      "          jupyter nbextension enable jupyter_tabnine --user --py\n",
      "    \n"
     ]
    }
   ],
   "source": [
    "!jupyter nbextension install --py jupyter_tabnine --user"
   ]
  },
  {
   "cell_type": "code",
   "execution_count": 7,
   "id": "545b9f15-8b5c-4c26-820f-942e312a6cd1",
   "metadata": {},
   "outputs": [
    {
     "name": "stdout",
     "output_type": "stream",
     "text": [
      "Enabling notebook extension jupyter_tabnine/main...\n",
      "      - Validating: \u001b[32mOK\u001b[0m\n"
     ]
    }
   ],
   "source": [
    "!jupyter nbextension enable --py jupyter_tabnine --user"
   ]
  },
  {
   "cell_type": "code",
   "execution_count": 8,
   "id": "bdb0509e-c4e2-4a39-89d1-05ce74503ada",
   "metadata": {},
   "outputs": [
    {
     "name": "stdout",
     "output_type": "stream",
     "text": [
      "Enabling: jupyter_tabnine\n",
      "- Writing config: /home/bbborisk/.jupyter\n",
      "    - Validating...\n",
      "      jupyter_tabnine  \u001b[32mOK\u001b[0m\n"
     ]
    }
   ],
   "source": [
    "!jupyter serverextension enable --py jupyter_tabnine --user"
   ]
  },
  {
   "cell_type": "code",
   "execution_count": null,
   "id": "41c9f77c-5c78-41f0-8b2d-dcae1f3824c7",
   "metadata": {},
   "outputs": [],
   "source": []
  },
  {
   "cell_type": "code",
   "execution_count": null,
   "id": "b2f64776-3067-492f-9543-5a5ddd1471ae",
   "metadata": {},
   "outputs": [],
   "source": []
  },
  {
   "cell_type": "code",
   "execution_count": null,
   "id": "3315409b-415d-4741-8bc5-b52f2dc3b942",
   "metadata": {},
   "outputs": [],
   "source": []
  }
 ],
 "metadata": {
  "kernelspec": {
   "display_name": "Python 3 (ipykernel)",
   "language": "python",
   "name": "python3"
  },
  "language_info": {
   "codemirror_mode": {
    "name": "ipython",
    "version": 3
   },
   "file_extension": ".py",
   "mimetype": "text/x-python",
   "name": "python",
   "nbconvert_exporter": "python",
   "pygments_lexer": "ipython3",
   "version": "3.8.11"
  }
 },
 "nbformat": 4,
 "nbformat_minor": 5
}
