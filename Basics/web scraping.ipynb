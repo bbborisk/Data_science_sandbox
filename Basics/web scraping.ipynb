{
 "cells": [
  {
   "cell_type": "code",
   "execution_count": null,
   "id": "ea151f11-bdb0-47ff-991a-c389cabe375c",
   "metadata": {},
   "outputs": [],
   "source": [
    "!pip install requests"
   ]
  },
  {
   "cell_type": "code",
   "execution_count": 2,
   "id": "f32633f7-e1d8-4cc4-b861-7b109cdeefb8",
   "metadata": {},
   "outputs": [
    {
     "name": "stdout",
     "output_type": "stream",
     "text": [
      "Collecting bs4\n",
      "  Downloading bs4-0.0.1.tar.gz (1.1 kB)\n",
      "Requirement already satisfied: beautifulsoup4 in /home/bbborisk/anaconda3/lib/python3.8/site-packages (from bs4) (4.9.3)\n",
      "Requirement already satisfied: soupsieve>1.2 in /home/bbborisk/anaconda3/lib/python3.8/site-packages (from beautifulsoup4->bs4) (2.2.1)\n",
      "Building wheels for collected packages: bs4\n",
      "  Building wheel for bs4 (setup.py) ... \u001b[?25ldone\n",
      "\u001b[?25h  Created wheel for bs4: filename=bs4-0.0.1-py3-none-any.whl size=1272 sha256=70dee93df8fc067fd51f48e5dc2b608e5fad4deef27490f56f2549013fa39076\n",
      "  Stored in directory: /home/bbborisk/.cache/pip/wheels/75/78/21/68b124549c9bdc94f822c02fb9aa3578a669843f9767776bca\n",
      "Successfully built bs4\n",
      "Installing collected packages: bs4\n",
      "Successfully installed bs4-0.0.1\n"
     ]
    }
   ],
   "source": [
    "!pip install bs4"
   ]
  },
  {
   "cell_type": "code",
   "execution_count": 2,
   "id": "424dc5a4-3be4-4147-a20e-e93822fd4811",
   "metadata": {},
   "outputs": [],
   "source": [
    "import requests\n",
    "import bs4\n",
    "import pandas as pd"
   ]
  },
  {
   "cell_type": "code",
   "execution_count": 3,
   "id": "a635e6ef-9dfb-4fad-90cf-8a213ff7e873",
   "metadata": {},
   "outputs": [],
   "source": [
    "ourdata = requests.get(\"https://en.wikipedia.org/wiki/Artificial_intelligence\")\n"
   ]
  },
  {
   "cell_type": "code",
   "execution_count": 4,
   "id": "191e1783-8d1d-4324-b2ff-62a5e55ea548",
   "metadata": {},
   "outputs": [],
   "source": [
    "bsp = bs4.BeautifulSoup(ourdata.text, \"xml\")"
   ]
  },
  {
   "cell_type": "code",
   "execution_count": 11,
   "id": "d7597917-1628-4c64-afbd-cb79920584fa",
   "metadata": {},
   "outputs": [],
   "source": [
    "titles = bsp.select(\"title\")"
   ]
  },
  {
   "cell_type": "code",
   "execution_count": 12,
   "id": "22753cd7-7b4d-4ad5-bfd1-535c12b7e91a",
   "metadata": {},
   "outputs": [
    {
     "data": {
      "text/plain": [
       "[<title>Artificial intelligence - Wikipedia</title>]"
      ]
     },
     "execution_count": 12,
     "metadata": {},
     "output_type": "execute_result"
    }
   ],
   "source": [
    "titles"
   ]
  },
  {
   "cell_type": "code",
   "execution_count": 14,
   "id": "f0d7654e-d5e9-49d4-97fa-d6103efbf9a4",
   "metadata": {},
   "outputs": [
    {
     "data": {
      "text/plain": [
       "[<h2 id=\"mw-toc-heading\">Contents</h2>,\n",
       " <h2><span class=\"mw-headline\" id=\"History\">History</span></h2>,\n",
       " <h2><span class=\"mw-headline\" id=\"Goals\">Goals</span></h2>,\n",
       " <h2><span class=\"mw-headline\" id=\"Tools\">Tools</span></h2>,\n",
       " <h2><span class=\"mw-headline\" id=\"Applications\">Applications<span class=\"anchor\" id=\"Goals\"/></span></h2>,\n",
       " <h2><span class=\"mw-headline\" id=\"Philosophy\">Philosophy</span></h2>,\n",
       " <h2><span class=\"mw-headline\" id=\"Future_of_AI\">Future of AI</span></h2>,\n",
       " <h2><span class=\"mw-headline\" id=\"In_fiction\">In fiction</span></h2>,\n",
       " <h2><span class=\"mw-headline\" id=\"See_also\">See also</span></h2>,\n",
       " <h2><span class=\"mw-headline\" id=\"Explanatory_notes\">Explanatory notes</span></h2>,\n",
       " <h2><span class=\"mw-headline\" id=\"References\">References</span></h2>,\n",
       " <h2><span class=\"mw-headline\" id=\"Further_reading\">Further reading</span></h2>,\n",
       " <h2><span class=\"mw-headline\" id=\"External_links\">External links</span></h2>,\n",
       " <h2>Navigation menu</h2>]"
      ]
     },
     "execution_count": 14,
     "metadata": {},
     "output_type": "execute_result"
    }
   ],
   "source": [
    "bsp.select(\"h2\")"
   ]
  },
  {
   "cell_type": "code",
   "execution_count": 15,
   "id": "213816d6-409a-43ee-984d-83aedf45e026",
   "metadata": {},
   "outputs": [
    {
     "data": {
      "text/plain": [
       "'Artificial intelligence - Wikipedia'"
      ]
     },
     "execution_count": 15,
     "metadata": {},
     "output_type": "execute_result"
    }
   ],
   "source": [
    "titles[0].getText()"
   ]
  },
  {
   "cell_type": "code",
   "execution_count": 16,
   "id": "96ac50ce-9721-4ca6-9bae-38eb602074f4",
   "metadata": {},
   "outputs": [],
   "source": [
    "titleclass = bsp.select(\"h2\")"
   ]
  },
  {
   "cell_type": "code",
   "execution_count": 18,
   "id": "ced66039-0faf-4449-88db-9461a5ca99d1",
   "metadata": {},
   "outputs": [
    {
     "name": "stdout",
     "output_type": "stream",
     "text": [
      "Contents\n",
      "History\n",
      "Goals\n",
      "Tools\n",
      "Applications\n",
      "Philosophy\n",
      "Future of AI\n",
      "In fiction\n",
      "See also\n",
      "Explanatory notes\n",
      "References\n",
      "Further reading\n",
      "External links\n",
      "Navigation menu\n"
     ]
    }
   ],
   "source": [
    "for i in titleclass:\n",
    "    print(i.text)"
   ]
  },
  {
   "cell_type": "code",
   "execution_count": 5,
   "id": "32a5c7a7-78db-4e9b-ac69-8a0c576eb3f2",
   "metadata": {},
   "outputs": [],
   "source": [
    "import wikipedia"
   ]
  },
  {
   "cell_type": "code",
   "execution_count": 6,
   "id": "81b164a7-067b-47f9-9f58-59d77c60c9e3",
   "metadata": {},
   "outputs": [
    {
     "data": {
      "text/plain": [
       "['Artificial intelligence',\n",
       " 'Intelligence',\n",
       " 'Marek Rosa',\n",
       " 'Commonwealth Saga',\n",
       " 'Theaitre',\n",
       " 'Walther von Hahn',\n",
       " 'FlowerChecker',\n",
       " 'AI: When a Robot Writes a Play']"
      ]
     },
     "execution_count": 6,
     "metadata": {},
     "output_type": "execute_result"
    }
   ],
   "source": [
    "wikipedia.search(\"Artificial inteligence\")"
   ]
  },
  {
   "cell_type": "code",
   "execution_count": 10,
   "id": "5418ed1d-5de9-498b-84b5-60be12b3fcd2",
   "metadata": {},
   "outputs": [],
   "source": [
    "page = wikipedia.page(wikipedia.search(\"Artificial inteligence\")[0])"
   ]
  },
  {
   "cell_type": "code",
   "execution_count": 11,
   "id": "38dfe99b-dc57-43d2-90cb-c9705c7b23b7",
   "metadata": {},
   "outputs": [
    {
     "data": {
      "text/plain": [
       "<WikipediaPage 'Artificial intelligence'>"
      ]
     },
     "execution_count": 11,
     "metadata": {},
     "output_type": "execute_result"
    }
   ],
   "source": [
    "page"
   ]
  },
  {
   "cell_type": "code",
   "execution_count": 12,
   "id": "fe0e4b15-1a1a-455f-be49-a36ddf08ecff",
   "metadata": {},
   "outputs": [
    {
     "data": {
      "text/plain": [
       "'Artificial intelligence'"
      ]
     },
     "execution_count": 12,
     "metadata": {},
     "output_type": "execute_result"
    }
   ],
   "source": [
    "page.title"
   ]
  },
  {
   "cell_type": "code",
   "execution_count": null,
   "id": "18e7bf7f-9142-4cc1-b6f5-c9aa2ae4c2e3",
   "metadata": {},
   "outputs": [],
   "source": []
  },
  {
   "cell_type": "code",
   "execution_count": 15,
   "id": "3910a996-1aad-4481-a293-6e4d84c62da6",
   "metadata": {},
   "outputs": [
    {
     "data": {
      "text/plain": [
       "'Artificial intelligence (AI) is intelligence demonstrated by machines, as opposed to the natural intelligence displayed by humans or animals. \\nLeading AI textbooks define the field as the study of \"intelligent agents\": any system that perceives its environment and takes actions that maximize its chance of achieving its goals. \\nSome popular accounts use the term \"artificial intelligence\" to describe machines that mimic \"cognitive\" functions that humans associate with the human mind, such as \"learning\" and \"problem solving\", however this definition is rejected by major AI researchers.AI applications include advanced web search engines (i.e. Google), recommendation systems (used by YouTube, Amazon and Netflix), understanding human speech (such as Siri or Alexa), self-driving cars (e.g. Tesla), and competing at the highest level in strategic game systems (such as chess and Go),\\nAs machines become increasingly capable, tasks considered to require \"intelligence\" are often removed from the definition of AI, a phenomenon known as the AI effect.  For instance, optical character recognition is frequently excluded from things considered to be AI, having become a routine technology.Artificial intelligence was founded as an academic discipline in 1956, and in the years since has experienced several waves of optimism, followed by disappointment and the loss of funding (known as an \"AI winter\"), followed by new approaches, success and renewed funding. AI research has tried and discarded many different approaches during its lifetime, including simulating the brain, modeling human problem solving, formal logic, large databases of knowledge and imitating animal behavior. In the first decades of the 21st century, highly mathematical statistical machine learning has dominated the field, and this technique has proved highly successful, helping to solve many challenging problems throughout industry and academia.The various sub-fields of AI research are centered around particular goals and the use of particular tools. The traditional goals of AI research include reasoning, knowledge representation, planning, learning, natural language processing, perception and the ability to move and manipulate objects. General intelligence (the ability to solve an arbitrary problem) is among the field\\'s long-term goals. To solve these problems, AI researchers use versions of search and mathematical optimization, formal logic, artificial neural networks, and methods based on statistics, probability and economics. AI also draws upon computer science, psychology, linguistics, philosophy, and many other fields.\\nThe field was founded on the assumption that human intelligence \"can be so precisely described that a machine can be made to simulate it\". This raises philosophical arguments about the mind and the ethics of creating artificial beings endowed with human-like intelligence. These issues have been explored by myth, fiction and philosophy since antiquity.Science fiction and futurology have also suggested that, with its enormous potential and power, AI may become an existential risk to humanity.\\n\\n'"
      ]
     },
     "execution_count": 15,
     "metadata": {},
     "output_type": "execute_result"
    }
   ],
   "source": [
    "page.summary"
   ]
  },
  {
   "cell_type": "code",
   "execution_count": 23,
   "id": "d537c0ee-b15b-4908-8b1d-1cba1202e409",
   "metadata": {},
   "outputs": [
    {
     "data": {
      "text/plain": [
       "['API_URL',\n",
       " 'BeautifulSoup',\n",
       " 'Decimal',\n",
       " 'DisambiguationError',\n",
       " 'HTTPTimeoutError',\n",
       " 'ODD_ERROR_MESSAGE',\n",
       " 'PageError',\n",
       " 'RATE_LIMIT',\n",
       " 'RATE_LIMIT_LAST_CALL',\n",
       " 'RATE_LIMIT_MIN_WAIT',\n",
       " 'RedirectError',\n",
       " 'USER_AGENT',\n",
       " 'WikipediaException',\n",
       " 'WikipediaPage',\n",
       " '__builtins__',\n",
       " '__cached__',\n",
       " '__doc__',\n",
       " '__file__',\n",
       " '__loader__',\n",
       " '__name__',\n",
       " '__package__',\n",
       " '__path__',\n",
       " '__spec__',\n",
       " '__version__',\n",
       " 'cache',\n",
       " 'datetime',\n",
       " 'debug',\n",
       " 'donate',\n",
       " 'exceptions',\n",
       " 'geosearch',\n",
       " 'languages',\n",
       " 'page',\n",
       " 'random',\n",
       " 're',\n",
       " 'requests',\n",
       " 'search',\n",
       " 'set_lang',\n",
       " 'set_rate_limiting',\n",
       " 'set_user_agent',\n",
       " 'stdout_encode',\n",
       " 'suggest',\n",
       " 'summary',\n",
       " 'sys',\n",
       " 'time',\n",
       " 'timedelta',\n",
       " 'unicode_literals',\n",
       " 'util',\n",
       " 'wikipedia']"
      ]
     },
     "execution_count": 23,
     "metadata": {},
     "output_type": "execute_result"
    }
   ],
   "source": [
    "page.images\n",
    "dir(wikipedia)"
   ]
  },
  {
   "cell_type": "code",
   "execution_count": 26,
   "id": "c7f78a8c-521d-4db0-8e7a-0a13aed0d379",
   "metadata": {},
   "outputs": [
    {
     "data": {
      "text/plain": [
       "['https://upload.wikimedia.org/wikipedia/commons/7/7a/Anatomy-1751201_1280.png',\n",
       " 'https://upload.wikimedia.org/wikipedia/commons/8/87/Capek_play.jpg',\n",
       " 'https://upload.wikimedia.org/wikipedia/commons/5/51/Computer_Retro.svg',\n",
       " 'https://upload.wikimedia.org/wikipedia/commons/b/b5/DNC_training_recall_task.gif',\n",
       " 'https://upload.wikimedia.org/wikipedia/commons/c/c8/Didrachm_Phaistos_obverse_CdM.jpg',\n",
       " 'https://upload.wikimedia.org/wikipedia/commons/9/9e/GFO_taxonomy_tree.png',\n",
       " 'https://upload.wikimedia.org/wikipedia/commons/4/41/Global_thinking.svg',\n",
       " 'https://upload.wikimedia.org/wikipedia/commons/7/76/Hierarchical-control-system.svg',\n",
       " 'https://upload.wikimedia.org/wikipedia/commons/1/13/Joseph_Ayerle_portrait_of_Ornella_Muti_%28detail%29%2C_calculated_by_Artificial_Intelligence_%28AI%29_technology.jpg',\n",
       " 'https://upload.wikimedia.org/wikipedia/commons/b/b8/Kismet_robot_at_MIT_Museum.jpg',\n",
       " 'https://upload.wikimedia.org/wikipedia/commons/0/00/Multi-Layer_Neural_Network-Vector-Blank.svg',\n",
       " 'https://upload.wikimedia.org/wikipedia/commons/8/8b/Nuvola_apps_kalzium.svg',\n",
       " 'https://upload.wikimedia.org/wikipedia/commons/6/6f/Octicons-terminal.svg',\n",
       " 'https://upload.wikimedia.org/wikipedia/commons/6/6e/ParseTree.svg',\n",
       " 'https://upload.wikimedia.org/wikipedia/commons/3/37/People_icon.svg',\n",
       " 'https://upload.wikimedia.org/wikipedia/commons/c/c5/Shadow_Hand_Bulb_large.jpg',\n",
       " 'https://upload.wikimedia.org/wikipedia/commons/c/cd/Socrates.png',\n",
       " 'https://upload.wikimedia.org/wikipedia/commons/f/fa/Wikibooks-logo.svg',\n",
       " 'https://upload.wikimedia.org/wikipedia/commons/f/ff/Wikidata-logo.svg',\n",
       " 'https://upload.wikimedia.org/wikipedia/commons/f/fa/Wikiquote-logo.svg',\n",
       " 'https://upload.wikimedia.org/wikipedia/commons/0/0b/Wikiversity_logo_2017.svg',\n",
       " 'https://upload.wikimedia.org/wikipedia/commons/2/20/%C3%84%C3%A4retuvastuse_n%C3%A4ide.png',\n",
       " 'https://upload.wikimedia.org/wikipedia/en/4/4a/Commons-logo.svg',\n",
       " 'https://upload.wikimedia.org/wikipedia/en/8/8a/OOjs_UI_icon_edit-ltr-progressive.svg',\n",
       " 'https://upload.wikimedia.org/wikipedia/en/1/1b/Semi-protection-shackle.svg',\n",
       " 'https://upload.wikimedia.org/wikipedia/en/9/96/Symbol_category_class.svg',\n",
       " 'https://upload.wikimedia.org/wikipedia/en/d/db/Symbol_list_class.svg',\n",
       " 'https://upload.wikimedia.org/wikipedia/en/e/e2/Symbol_portal_class.svg',\n",
       " 'https://upload.wikimedia.org/wikipedia/en/0/06/Wiktionary-logo-v2.svg']"
      ]
     },
     "execution_count": 26,
     "metadata": {},
     "output_type": "execute_result"
    }
   ],
   "source": [
    "page.images"
   ]
  },
  {
   "cell_type": "code",
   "execution_count": null,
   "id": "077f6b33-1ee5-4e95-b60e-e7e2c4bffa19",
   "metadata": {},
   "outputs": [],
   "source": []
  }
 ],
 "metadata": {
  "kernelspec": {
   "display_name": "Python 3 (ipykernel)",
   "language": "python",
   "name": "python3"
  },
  "language_info": {
   "codemirror_mode": {
    "name": "ipython",
    "version": 3
   },
   "file_extension": ".py",
   "mimetype": "text/x-python",
   "name": "python",
   "nbconvert_exporter": "python",
   "pygments_lexer": "ipython3",
   "version": "3.8.11"
  }
 },
 "nbformat": 4,
 "nbformat_minor": 5
}
